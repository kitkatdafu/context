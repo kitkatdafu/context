{
 "cells": [
  {
   "cell_type": "code",
   "execution_count": 327,
   "metadata": {
    "cell_id": "00001-f9ab4961-ed3f-447c-a0ba-05e4dfd656d4",
    "deepnote_cell_height": 189,
    "deepnote_cell_type": "code",
    "deepnote_to_be_reexecuted": false,
    "execution_millis": 1420,
    "execution_start": 1658342747228,
    "source_hash": "fc177a72",
    "tags": []
   },
   "outputs": [],
   "source": [
    "import pandas as pd\n",
    "import cvxpy as cp\n",
    "import pickle\n",
    "import numpy as np\n",
    "import matplotlib.pyplot as plt\n",
    "from itertools import combinations, combinations_with_replacement, product\n",
    "import math"
   ]
  },
  {
   "cell_type": "code",
   "execution_count": 328,
   "metadata": {
    "cell_id": "f848b88b08214ce68c92363009cfb432",
    "deepnote_cell_height": 549,
    "deepnote_cell_type": "code",
    "deepnote_to_be_reexecuted": false,
    "execution_millis": 4,
    "execution_start": 1658342748656,
    "source_hash": "bc674d0f",
    "tags": []
   },
   "outputs": [],
   "source": [
    "# Run the Semidefinite program\n",
    "\n",
    "from tabnanny import verbose\n",
    "\n",
    "\n",
    "def run_localization_sdp(n, availPairs, dist_err, pd_mat):\n",
    "    # gen the M_ij for the constraints\n",
    "    Mij_storage = []\n",
    "    for i,j in availPairs:\n",
    "        eij = np.zeros((n,1))\n",
    "        eij[i] = 1\n",
    "        eij[j] = -1\n",
    "        mij = np.matmul(eij, np.transpose(eij))\n",
    "        Mij_storage.append(mij)\n",
    "\n",
    "\n",
    "    X = cp.Variable((n,n), symmetric=True)\n",
    "    constraints = [X >> 0] # X must be Positive Semi Definite\n",
    "    constraints += [\n",
    "        cp.trace(Mij_storage[i] @ X) - (pd_mat[availPairs[i,0], availPairs[i,1]] ** 2) <= dist_err for i in range(p)\n",
    "    ]\n",
    "    constraints += [\n",
    "        cp.trace(Mij_storage[i] @ X) - (pd_mat[availPairs[i,0], availPairs[i,1]] ** 2) >= -dist_err for i in range(p)\n",
    "    ]\n",
    "\n",
    "    prob = cp.Problem(cp.Minimize(cp.trace(X)),\n",
    "                    constraints)\n",
    "    prob.solve()\n",
    "\n",
    "    return X"
   ]
  },
  {
   "cell_type": "code",
   "execution_count": 329,
   "metadata": {
    "cell_id": "134c7ce84363474b9f80e65f2447a0f5",
    "deepnote_cell_height": 333,
    "deepnote_cell_type": "code",
    "deepnote_to_be_reexecuted": false,
    "execution_millis": 5,
    "execution_start": 1658342748662,
    "source_hash": "35b793fa",
    "tags": []
   },
   "outputs": [],
   "source": [
    "# Eigen decomposition of the XX^T Mat we got as X\n",
    "def get_final_points_rep(Q, num_dim):\n",
    "    w,v = np.linalg.eig(Q)\n",
    "    w = np.real(w)\n",
    "\n",
    "    # sort these based on the eigenvalues\n",
    "    v = v[:,np.argsort(-w)]\n",
    "    w = w[np.argsort(-w)]\n",
    "\n",
    "    # best rank 'd' approximation, keep only the first d elements\n",
    "    w[num_dim:] = 0\n",
    "    # getting the best 'd' dimensional approximation of the points\n",
    "    final_points_rep = np.matmul(v, np.diag(np.sqrt(w)))[:,:num_dim]\n",
    "\n",
    "    return final_points_rep"
   ]
  },
  {
   "cell_type": "code",
   "execution_count": 330,
   "metadata": {
    "cell_id": "9df1b9fdced04eca933a098a6b6687a7",
    "deepnote_cell_height": 621,
    "deepnote_cell_type": "code",
    "deepnote_to_be_reexecuted": false,
    "execution_millis": 31,
    "execution_start": 1658342748674,
    "source_hash": "67a35f2",
    "tags": []
   },
   "outputs": [],
   "source": [
    "def get_best_context_vec(availPairs, true_rep, final_points_rep, num_dim, plot_title=None):\n",
    "    points_considered = np.unique(np.ravel(availPairs))\n",
    "    _n = points_considered.shape[0]\n",
    "    centering_mat = np.eye(_n) - np.ones((_n,_n))/_n\n",
    "\n",
    "    # original points\n",
    "    orig_reps = true_rep[points_considered, :] # * context_vectors[(0,1)]\n",
    "    est_reps = final_points_rep[points_considered, :]\n",
    "\n",
    "    # context search\n",
    "    count = 0\n",
    "    contexts = []\n",
    "    metrics = []\n",
    "    for roll in product([0,1], repeat = num_dim):\n",
    "        reps_in_context = orig_reps * np.array(roll)\n",
    "        d_x_xHat =  np.matmul(est_reps, est_reps.transpose()) - \\\n",
    "                    np.matmul(reps_in_context, reps_in_context.transpose())\n",
    "        d_x_xHat = np.matmul(centering_mat, np.matmul(d_x_xHat, centering_mat))\n",
    "\n",
    "        contexts.append(roll)\n",
    "        metrics.append( np.linalg.norm(np.ravel(d_x_xHat), 1)/ (n **2) )\n",
    "\n",
    "    # plt.plot(metrics)\n",
    "    # if plot_title != None: plt.title('context = ' + plot_title)\n",
    "    # plt.show()\n",
    "\n",
    "    best_context = contexts[np.argmin(metrics)]\n",
    "    # print(best_context)\n",
    "    # print(np.min(metrics))\n",
    "\n",
    "    return best_context"
   ]
  },
  {
   "cell_type": "code",
   "execution_count": 331,
   "metadata": {
    "cell_id": "00002-9b01426c-4259-48a6-850e-9db60bb54f8c",
    "deepnote_cell_height": 135,
    "deepnote_cell_type": "code",
    "deepnote_to_be_reexecuted": false,
    "execution_millis": 1,
    "execution_start": 1658342748705,
    "source_hash": "f436a1eb",
    "tags": []
   },
   "outputs": [],
   "source": [
    "with open(\"est_dist.pkl\", \"rb\") as inptr:\n",
    "    est_dist = pickle.load(inptr)\n",
    "with open(\"true_rep.pkl\", \"rb\") as inptr:\n",
    "    true_rep = np.load(inptr)"
   ]
  },
  {
   "cell_type": "code",
   "execution_count": 332,
   "metadata": {
    "cell_id": "e9cf9f150b10425bad69d6aee71a9dc8",
    "deepnote_cell_height": 129.6875,
    "deepnote_cell_type": "code",
    "deepnote_to_be_reexecuted": false,
    "execution_millis": 2,
    "execution_start": 1658342748708,
    "source_hash": "eac29a61",
    "tags": []
   },
   "outputs": [
    {
     "name": "stdout",
     "output_type": "stream",
     "text": [
      "[(0, 0, 0), (0, 0, 1), (0, 0, 2), (0, 1, 1), (0, 1, 2), (0, 2, 2), (1, 1, 1), (1, 1, 2), (1, 2, 2), (2, 2, 2)]\n"
     ]
    }
   ],
   "source": [
    "all_contexts = list(combinations_with_replacement([0, 1, 2], r=3))\n",
    "print(all_contexts)"
   ]
  },
  {
   "cell_type": "code",
   "execution_count": 333,
   "metadata": {
    "cell_id": "942e4152fd084238a11b43251fb91818",
    "deepnote_cell_height": 135,
    "deepnote_cell_type": "code",
    "deepnote_to_be_reexecuted": false,
    "execution_millis": 1,
    "execution_start": 1658342748709,
    "source_hash": "ef967c8c",
    "tags": []
   },
   "outputs": [],
   "source": [
    "context_dist = {i : {} for i in all_contexts}\n",
    "for key, vals in est_dist.items():\n",
    "    for key2, vals2 in vals.items():\n",
    "        context_dist[key2][key] = vals2"
   ]
  },
  {
   "cell_type": "code",
   "execution_count": 334,
   "metadata": {
    "cell_id": "00004-fc382b9e-7c0e-4c28-ae77-8835ace98ceb",
    "deepnote_cell_height": 171,
    "deepnote_cell_type": "code",
    "deepnote_to_be_reexecuted": false,
    "execution_millis": 3,
    "execution_start": 1658342748712,
    "source_hash": "7ab115aa",
    "tags": []
   },
   "outputs": [],
   "source": [
    "# params for the semidefinite program\n",
    "# max err in the estimated and measured distances\n",
    "dist_err = 0.5\n",
    "# num dims for the final points rep\n",
    "num_dim = 2 # this can be atmost 'n'\n",
    "n = len(true_rep)"
   ]
  },
  {
   "cell_type": "code",
   "execution_count": 335,
   "metadata": {
    "cell_id": "65508550adf14396b5eb4482e149b019",
    "deepnote_cell_height": 189,
    "deepnote_cell_type": "code",
    "deepnote_to_be_reexecuted": false,
    "execution_millis": 3,
    "execution_start": 1658342748718,
    "source_hash": "c29424db",
    "tags": []
   },
   "outputs": [],
   "source": [
    "_labels = np.array([1, 2, 0, 0, 0, 0, 2, 2, 2, 1, 1, 1, 0, 2, 2, 1, 0, 0, 1, 2, 1, 1,\n",
    "       0, 2, 1, 0, 2, 2, 2, 1, 1, 0, 0])\n",
    "cluster_to_image_index = {\n",
    "    0: list(np.where(_labels == 0)[0]),\n",
    "    1: list(np.where(_labels == 1)[0]),\n",
    "    2: list(np.where(_labels == 2)[0]),\n",
    "}"
   ]
  },
  {
   "cell_type": "code",
   "execution_count": 336,
   "metadata": {
    "cell_id": "0274510cf204441da9aee9d6aff8a1d0",
    "deepnote_cell_height": 3221,
    "deepnote_cell_type": "code",
    "deepnote_output_heights": [
     266,
     null,
     266,
     null,
     266,
     null,
     266,
     null,
     266
    ],
    "deepnote_to_be_reexecuted": false,
    "execution_millis": 223480,
    "execution_start": 1658342748736,
    "owner_user_id": "3362119c-fecf-4652-8156-f9117af16fa7",
    "source_hash": "59c01999",
    "tags": []
   },
   "outputs": [
    {
     "name": "stderr",
     "output_type": "stream",
     "text": [
      "/var/folders/36/1dhnptp91hzb49wm7_3_1b6m0000gn/T/ipykernel_21044/1274202443.py:13: RuntimeWarning: invalid value encountered in sqrt\n",
      "  final_points_rep = np.matmul(v, np.diag(np.sqrt(w)))[:,:num_dim]\n"
     ]
    }
   ],
   "source": [
    "best_context_vecs = {}\n",
    "find_reps_from_config = {}\n",
    "find_reps_truncated_from_config = {}\n",
    "\n",
    "for context in all_contexts:\n",
    "    pd_mat = np.zeros((n,n))\n",
    "    availPairs = np.array(list(context_dist[context].keys()))\n",
    "    p = len(availPairs)\n",
    "    availPoints = np.unique(np.ravel(availPairs))\n",
    "    for key, val in context_dist[context].items():\n",
    "        i,j = key\n",
    "        pd_mat[i,j] = val\n",
    "        pd_mat[j,i] = val\n",
    "\n",
    "    X = run_localization_sdp(n, availPairs, dist_err, pd_mat)\n",
    "    final_points_rep = get_final_points_rep(X.value, num_dim)\n",
    "\n",
    "    best_context_vec = get_best_context_vec(availPairs, true_rep, final_points_rep, num_dim, str(context))\n",
    "    best_context_vecs[context] = best_context_vec\n",
    "    find_reps_from_config[context] = final_points_rep\n",
    "    find_reps_truncated_from_config[context] = {i: final_points_rep[i] for i in availPoints}"
   ]
  },
  {
   "cell_type": "code",
   "execution_count": 337,
   "metadata": {
    "cell_id": "d755529948fc4f3eb71964ab67bcf978",
    "deepnote_cell_height": 344.640625,
    "deepnote_cell_type": "code",
    "deepnote_to_be_reexecuted": true,
    "execution_millis": 594,
    "execution_start": 1658265739772,
    "source_hash": "9a794e02",
    "tags": []
   },
   "outputs": [
    {
     "name": "stdout",
     "output_type": "stream",
     "text": [
      "Estimated Context Vectors\n",
      "(0, 0, 0) : (0, 1)\n",
      "(0, 0, 1) : (1, 0)\n",
      "(0, 0, 2) : (0, 1)\n",
      "(0, 1, 1) : (1, 0)\n",
      "(0, 1, 2) : (1, 0)\n",
      "(0, 2, 2) : (0, 1)\n",
      "(1, 1, 1) : (0, 0)\n",
      "(1, 1, 2) : (1, 0)\n",
      "(1, 2, 2) : (1, 0)\n",
      "(2, 2, 2) : (0, 0)\n"
     ]
    }
   ],
   "source": [
    "print('Estimated Context Vectors')\n",
    "for key, val in best_context_vecs.items():\n",
    "    print(key,':', val) "
   ]
  },
  {
   "cell_type": "code",
   "execution_count": 338,
   "metadata": {
    "cell_id": "4fcc5316af534995810a0c3d9a255da5",
    "deepnote_cell_height": 207,
    "deepnote_cell_type": "code",
    "deepnote_to_be_reexecuted": true,
    "execution_millis": 0,
    "execution_start": 1658265739789,
    "source_hash": "3d42583",
    "tags": []
   },
   "outputs": [],
   "source": [
    "find_reps_from_point = {}\n",
    "for config, point_to_rep in find_reps_truncated_from_config.items():\n",
    "    for point, rep in point_to_rep.items():\n",
    "        context = best_context_vecs[config]\n",
    "        if point not in find_reps_from_point:\n",
    "            find_reps_from_point[point] = {context: rep}\n",
    "        else:\n",
    "            find_reps_from_point[point][context] = rep"
   ]
  },
  {
   "cell_type": "code",
   "execution_count": 339,
   "metadata": {
    "cell_id": "beed962db65447ce9fae1587904a1776",
    "deepnote_cell_height": 333.890625,
    "deepnote_cell_type": "code",
    "deepnote_to_be_reexecuted": true,
    "execution_millis": 564,
    "execution_start": 1658265739802,
    "source_hash": "1e9ec7b5",
    "tags": []
   },
   "outputs": [
    {
     "name": "stderr",
     "output_type": "stream",
     "text": [
      "/var/folders/36/1dhnptp91hzb49wm7_3_1b6m0000gn/T/ipykernel_21044/175719899.py:9: RuntimeWarning: invalid value encountered in divide\n",
      "  mean_at_1 = accumu / count_1_occur\n"
     ]
    }
   ],
   "source": [
    "find_rep_cleaned_from_point = {}\n",
    "for point, context_to_rep in find_reps_from_point.items():\n",
    "    count_1_occur = np.zeros(num_dim)\n",
    "    accumu = np.zeros(num_dim)\n",
    "    for context, rep_arr in context_to_rep.items():\n",
    "        ctx_arr = np.array(context)\n",
    "        count_1_occur += ctx_arr\n",
    "        accumu += np.real(rep_arr) * ctx_arr\n",
    "    mean_at_1 = accumu / count_1_occur\n",
    "    cleaned_mean_at_1 = np.nan_to_num(mean_at_1)\n",
    "\n",
    "    find_rep_cleaned_from_point[point] = cleaned_mean_at_1"
   ]
  },
  {
   "cell_type": "code",
   "execution_count": 340,
   "metadata": {
    "cell_id": "7ab7e55d13c445c69d02c6e68306d2aa",
    "deepnote_cell_height": 81,
    "deepnote_cell_type": "code",
    "deepnote_to_be_reexecuted": true,
    "execution_millis": 4,
    "execution_start": 1658265739807,
    "source_hash": "bfa05c4",
    "tags": []
   },
   "outputs": [],
   "source": [
    "sorted_by_point = list(map(lambda x: x[1], sorted(find_rep_cleaned_from_point.items(), key=lambda x: x[0])))"
   ]
  },
  {
   "cell_type": "markdown",
   "metadata": {
    "cell_id": "adec6206595444f68070a6fe1ec356ab",
    "deepnote_cell_type": "text-cell-h1",
    "formattedRanges": [],
    "is_collapsed": false,
    "tags": []
   },
   "source": [
    "# Result with context"
   ]
  },
  {
   "cell_type": "code",
   "execution_count": 341,
   "metadata": {
    "cell_id": "1891c9dc8ce44a0dab8865aaf027100b",
    "deepnote_cell_type": "code",
    "deepnote_to_be_reexecuted": true,
    "execution_millis": 902,
    "execution_start": 1658265739817,
    "source_hash": "7561320f",
    "tags": []
   },
   "outputs": [
    {
     "name": "stdout",
     "output_type": "stream",
     "text": [
      "K means \n"
     ]
    },
    {
     "data": {
      "text/plain": [
       "array([0, 1, 0, 2, 0, 0, 2, 1, 0, 0, 2, 0, 1, 2, 0, 1, 1, 2, 1, 2, 1, 2,\n",
       "       0, 1, 1, 1, 0, 1, 2, 0, 2, 2, 2], dtype=int32)"
      ]
     },
     "execution_count": 341,
     "metadata": {},
     "output_type": "execute_result"
    }
   ],
   "source": [
    "from sklearn.cluster import KMeans\n",
    "import numpy as np\n",
    "\n",
    "X = np.array(sorted_by_point)\n",
    "kmeans_context = KMeans(n_clusters=3, random_state=0).fit(X)\n",
    "print(\"K means \")\n",
    "kmeans_context.labels_"
   ]
  },
  {
   "cell_type": "code",
   "execution_count": 342,
   "metadata": {
    "cell_id": "26b591a4df9f421fb3f6e3407ea9bddd",
    "deepnote_cell_type": "code",
    "deepnote_to_be_reexecuted": true,
    "execution_millis": 3,
    "execution_start": 1658265740722,
    "source_hash": "6182dea2",
    "tags": []
   },
   "outputs": [],
   "source": [
    "true_labels = np.array([1, 2, 0, 0, 0, 0, 2, 2, 2, 1, 1, 1, 0, 2, 2, 1, 0, 0, 1, 2, 1, 1,\n",
    "       0, 2, 1, 0, 2, 2, 2, 1, 1, 0, 0])"
   ]
  },
  {
   "cell_type": "code",
   "execution_count": 343,
   "metadata": {
    "cell_id": "4d695483d5e64b7fbb6699c7eee50639",
    "deepnote_cell_type": "code",
    "deepnote_to_be_reexecuted": true,
    "execution_millis": 21,
    "execution_start": 1658265740727,
    "source_hash": "4911580c",
    "tags": []
   },
   "outputs": [],
   "source": [
    "def vi(predicted_labels,\n",
    "       true_labels):\n",
    "    def expand(labels):\n",
    "        expanded = {label: set() for label in labels}\n",
    "        for node, label in enumerate(labels):\n",
    "            expanded[label].add(node)\n",
    "        return list(expanded.values())\n",
    "\n",
    "    n = len(predicted_labels)\n",
    "    predicted = expand(predicted_labels)\n",
    "    p = list(map(lambda x: len(x) / n, predicted))\n",
    "    true = expand(true_labels)\n",
    "    q = list(map(lambda x: len(x) / n, true))\n",
    "    r = [[len(predicted[i].intersection(true[j])) / n\n",
    "          for j in range(len(true))]\n",
    "         for i in range(len(predicted))]\n",
    "    vi = sum([r[i][j] * (np.log(r[i][j] / p[i]) + np.log(r[i][j] / q[j]))\n",
    "              if r[i][j] > 0 else 0\n",
    "              for j in range(len(true))\n",
    "              for i in range(len(predicted))]) * -1\n",
    "    return abs(vi)"
   ]
  },
  {
   "cell_type": "code",
   "execution_count": 344,
   "metadata": {
    "cell_id": "f02bfb58a9ef403a9717b3d4bbd274f3",
    "deepnote_cell_type": "code",
    "deepnote_to_be_reexecuted": true,
    "execution_millis": 4,
    "execution_start": 1658265740756,
    "source_hash": "1ac1942e",
    "tags": []
   },
   "outputs": [
    {
     "data": {
      "text/plain": [
       "2.1801193174215676"
      ]
     },
     "execution_count": 344,
     "metadata": {},
     "output_type": "execute_result"
    }
   ],
   "source": [
    "vi(kmeans_context.labels_, true_labels)"
   ]
  },
  {
   "cell_type": "markdown",
   "metadata": {
    "cell_id": "11a5368346a2427ebda8e7d19973a1cf",
    "deepnote_cell_type": "text-cell-h1",
    "formattedRanges": [],
    "is_collapsed": false,
    "tags": []
   },
   "source": [
    "# Result without considering context"
   ]
  },
  {
   "cell_type": "code",
   "execution_count": 345,
   "metadata": {
    "cell_id": "a9c5a32774e145569820409e196b1e1a",
    "deepnote_cell_type": "code",
    "deepnote_to_be_reexecuted": true,
    "execution_millis": 1,
    "execution_start": 1658265740778,
    "source_hash": "210f673a",
    "tags": []
   },
   "outputs": [],
   "source": [
    "avg_dist = {k: np.mean(list(v.values())) for k, v in est_dist.items()}"
   ]
  },
  {
   "cell_type": "code",
   "execution_count": 346,
   "metadata": {
    "cell_id": "4087d31e71bb4411a112d1839c9dae6f",
    "deepnote_cell_type": "code",
    "deepnote_to_be_reexecuted": true,
    "execution_millis": 29365,
    "execution_start": 1658265740779,
    "source_hash": "3079e4d2",
    "tags": []
   },
   "outputs": [],
   "source": [
    "pd_mat = np.zeros((n,n))\n",
    "availPairs = np.array(list(avg_dist.keys()))\n",
    "p = len(availPairs)\n",
    "for key, val in avg_dist.items():\n",
    "    i,j = key\n",
    "    pd_mat[i,j] = val\n",
    "    pd_mat[j,i] = val\n",
    "\n",
    "X = run_localization_sdp(n, availPairs, dist_err, pd_mat)\n",
    "final_points_rep = get_final_points_rep(X.value, num_dim)"
   ]
  },
  {
   "cell_type": "code",
   "execution_count": 347,
   "metadata": {
    "cell_id": "ee1be3457c7a42469899244e27dccd21",
    "deepnote_cell_type": "code",
    "deepnote_to_be_reexecuted": true,
    "execution_millis": 5,
    "execution_start": 1658265770143,
    "source_hash": "6d8a11cf",
    "tags": []
   },
   "outputs": [
    {
     "data": {
      "text/plain": [
       "array([0, 1, 0, 2, 0, 0, 2, 1, 0, 0, 2, 0, 1, 2, 0, 1, 1, 2, 1, 2, 1, 2,\n",
       "       0, 1, 1, 1, 0, 1, 2, 0, 2, 2, 2], dtype=int32)"
      ]
     },
     "execution_count": 347,
     "metadata": {},
     "output_type": "execute_result"
    }
   ],
   "source": [
    "X = final_points_rep\n",
    "kmeans = KMeans(n_clusters=3, random_state=0).fit(X)\n",
    "kmeans.labels_"
   ]
  },
  {
   "cell_type": "code",
   "execution_count": 348,
   "metadata": {
    "cell_id": "3cea67e140484beeb7035c5aa0f3cf47",
    "deepnote_cell_type": "code",
    "deepnote_to_be_reexecuted": true,
    "execution_millis": 4,
    "execution_start": 1658265770153,
    "source_hash": "1ac1942e",
    "tags": []
   },
   "outputs": [
    {
     "data": {
      "text/plain": [
       "2.1801193174215676"
      ]
     },
     "execution_count": 348,
     "metadata": {},
     "output_type": "execute_result"
    }
   ],
   "source": [
    "vi(kmeans.labels_, true_labels)"
   ]
  },
  {
   "cell_type": "markdown",
   "metadata": {},
   "source": [
    "# Next"
   ]
  },
  {
   "cell_type": "code",
   "execution_count": 349,
   "metadata": {},
   "outputs": [],
   "source": [
    "kmeans_context.labels_\n",
    "\n",
    "np.save(\"new_labels.npy\", kmeans_context.labels_)"
   ]
  },
  {
   "cell_type": "code",
   "execution_count": null,
   "metadata": {},
   "outputs": [],
   "source": []
  }
 ],
 "metadata": {
  "deepnote": {},
  "deepnote_execution_queue": [],
  "deepnote_notebook_id": "13711bce-7f7e-4d3b-89bb-9f4b9061ec93",
  "kernelspec": {
   "display_name": "Python 3.9.12 ('base')",
   "language": "python",
   "name": "python3"
  },
  "language_info": {
   "codemirror_mode": {
    "name": "ipython",
    "version": 3
   },
   "file_extension": ".py",
   "mimetype": "text/x-python",
   "name": "python",
   "nbconvert_exporter": "python",
   "pygments_lexer": "ipython3",
   "version": "3.9.12"
  },
  "orig_nbformat": 2,
  "vscode": {
   "interpreter": {
    "hash": "1175593d7d5703ca8ef82cb0e3453330f777f66009c45f757ae5eae8f3b72393"
   }
  }
 },
 "nbformat": 4,
 "nbformat_minor": 2
}
