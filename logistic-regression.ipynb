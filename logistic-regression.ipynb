{
 "cells": [
  {
   "cell_type": "code",
   "execution_count": 67,
   "metadata": {
    "cell_id": "896440ca-3944-43c7-810f-80db618c21cb",
    "deepnote_app_coordinates": {
     "h": 5,
     "w": 12,
     "x": 0,
     "y": null
    },
    "deepnote_cell_height": 277.5333251953125,
    "deepnote_cell_type": "code",
    "deepnote_to_be_reexecuted": true,
    "execution_millis": 0,
    "execution_start": 1658342192555,
    "owner_user_id": "3362119c-fecf-4652-8156-f9117af16fa7",
    "source_hash": "2cd9f2c2"
   },
   "outputs": [],
   "source": [
    "# author        : Harsha\n",
    "# date          : Apr 15 2021\n",
    "# description   : 1st experiment with Probabilistic Model. \n",
    "#                 Building a simple Linear Network for Multiclass classification."
   ]
  },
  {
   "cell_type": "code",
   "execution_count": 68,
   "metadata": {
    "cell_id": "00001-b75113e1-3280-46bd-ad90-3a395e22392d",
    "deepnote_app_coordinates": {
     "h": 5,
     "w": 12,
     "x": 0,
     "y": 0
    },
    "deepnote_cell_height": 111.19999694824219,
    "deepnote_cell_type": "code",
    "deepnote_to_be_reexecuted": true,
    "execution_millis": 586,
    "execution_start": 1658342192601,
    "source_hash": "a4019f97",
    "tags": []
   },
   "outputs": [
    {
     "name": "stdout",
     "output_type": "stream",
     "text": [
      "Python 3.9.12\n"
     ]
    }
   ],
   "source": [
    "!python --version"
   ]
  },
  {
   "cell_type": "code",
   "execution_count": 69,
   "metadata": {
    "cell_id": "00002-864c37a2-c46a-46ce-911f-55a165fa122c",
    "deepnote_app_coordinates": {
     "h": 5,
     "w": 12,
     "x": 0,
     "y": 6
    },
    "deepnote_cell_height": 725.4000244140625,
    "deepnote_cell_type": "code",
    "deepnote_to_be_reexecuted": true,
    "execution_millis": 1655,
    "execution_start": 1658342193188,
    "source_hash": "658aeaea"
   },
   "outputs": [],
   "source": [
    "# imports\n",
    "\n",
    "# for dataset\n",
    "from torch.utils.data import Dataset, DataLoader\n",
    "# for NN model\n",
    "import torch\n",
    "import torch.nn as nn\n",
    "# for optimization \n",
    "import torch.optim as optim\n",
    "# For generating data\n",
    "import torch.distributions as D\n",
    "# for plotting\n",
    "import matplotlib.pyplot as plt\n",
    "# for math operations\n",
    "import math\n",
    "# for time stamps\n",
    "from datetime import datetime\n",
    "# for data dumping\n",
    "import pandas as pd\n",
    "# for generating combinations of images per query\n",
    "from itertools import combinations, combinations_with_replacement, product, permutations\n",
    "from util_methods import find_legalConfigs\n",
    "from scipy.stats import multinomial\n",
    "# for custon dataset\n",
    "from simpleEuclideanDataset import SimpleEuclideanDataset\n",
    "\n",
    "from scipy.io import savemat, loadmat\n",
    "\n",
    "from scipy.stats import multivariate_normal\n",
    "import numpy as np\n",
    "from scipy.stats import norm, truncnorm\n",
    "import seaborn as sns\n",
    "\n",
    "import copy"
   ]
  },
  {
   "cell_type": "code",
   "execution_count": 70,
   "metadata": {
    "cell_id": "00003-1ccc907d-a065-4e9e-b3bf-192fed14a9f1",
    "deepnote_app_coordinates": {
     "h": 5,
     "w": 12,
     "x": 0,
     "y": 12
    },
    "deepnote_cell_height": 422.33331298828125,
    "deepnote_cell_type": "code",
    "deepnote_to_be_reexecuted": true,
    "execution_millis": 2,
    "execution_start": 1658342194846,
    "source_hash": "9c46aa16"
   },
   "outputs": [],
   "source": [
    "# parametes\n",
    "# number of categories in the dataset\n",
    "num_inp_categories = 3 #2\n",
    "# total number of images or samples\n",
    "n = num_inp_categories * round(33 / num_inp_categories) # generating approx 100 samples\n",
    "# number of images per query\n",
    "# edge: 2, triangle: 3\n",
    "num_images_per_query = 3\n",
    "# number of valid configurations of the query answers\n",
    "# edge: 2, triangle: 5\n",
    "num_valid_configs = 5\n",
    "# the data belongs to R^d\n",
    "d = 2\n",
    "# variance for the gmm data clusters\n",
    "var = 0.0001\n",
    "# number of pairs in each query\n",
    "num_pair_in_q = math.comb(num_images_per_query, 2)\n",
    "\n",
    "# variable to control saving data\n",
    "save_data = 0"
   ]
  },
  {
   "cell_type": "code",
   "execution_count": 71,
   "metadata": {
    "cell_id": "00004-78fc9c14-3feb-4503-b3da-85975cd70463",
    "deepnote_app_coordinates": {
     "h": 5,
     "w": 12,
     "x": 0,
     "y": 18
    },
    "deepnote_cell_height": 2330.333251953125,
    "deepnote_cell_type": "code",
    "deepnote_to_be_reexecuted": true,
    "execution_millis": 22893,
    "execution_start": 1658342194935,
    "source_hash": "70381703",
    "tags": []
   },
   "outputs": [
    {
     "name": "stdout",
     "output_type": "stream",
     "text": [
      "(0, 0, 0) : (0, 0)\n",
      "(0, 0, 1) : (1, 0)\n",
      "(0, 0, 2) : (1, 0)\n",
      "(0, 1, 1) : (1, 0)\n",
      "(0, 1, 2) : (1, 0)\n",
      "(0, 2, 2) : (1, 0)\n",
      "(1, 1, 1) : (0, 0)\n",
      "(1, 1, 2) : (0, 1)\n",
      "(1, 2, 2) : (0, 1)\n",
      "(2, 2, 2) : (0, 0)\n"
     ]
    }
   ],
   "source": [
    "# 1 data generation : Each data point has a feature vector X in R^d. \n",
    "#                   The centers of these Gaussian Clusters are placed equidistant on a unit circle\n",
    "\n",
    "#################### Define the params of the Gaussian mixtures ####################\n",
    "# # the centers are represented in polar co-ordinates (r, \\theta) = (1, angle_of_Gaussian_centers)\n",
    "# angle_of_Gaussian_centers = (2*math.pi/num_inp_categories) * torch.arange(num_inp_categories)\n",
    "# # the centers in R^d rectangular coordinates\n",
    "# means = torch.tensor([[math.cos(i), math.sin(i)] for i in angle_of_Gaussian_centers])\n",
    "# # variances for the Gaussian model\n",
    "# vars = torch.tensor([[var, var] for i in angle_of_Gaussian_centers])\n",
    "\n",
    "# generating data for context\n",
    "from xarray import Coordinate\n",
    "\n",
    "\n",
    "mu = [\n",
    "        [0, 0],\n",
    "        [5, 0],\n",
    "        [4, 3],\n",
    "    ]\n",
    "covar = [\n",
    "    np.diag([var for _ in range(d)])\n",
    "    for _ in range(num_inp_categories)\n",
    "]\n",
    "\n",
    "# the context vectors that will be multiplied to the actual data in R^6\n",
    "\n",
    "configs = [\n",
    "    (0, 0, 0),\n",
    "    (0, 0, 1),\n",
    "    (0, 0, 2),\n",
    "    (0, 1, 1),\n",
    "    (0, 1, 2),\n",
    "    (0, 2, 2),\n",
    "    (1, 1, 1),\n",
    "    (1, 1, 2),\n",
    "    (1, 2, 2),\n",
    "    (2, 2, 2),\n",
    "]\n",
    "\n",
    "from functools import reduce\n",
    "context_vectors = {}\n",
    "for config in configs:\n",
    "    clusters = list(set(config))\n",
    "    if len(clusters) == 1:\n",
    "        context_vectors[config] = list(np.zeros(d, dtype=int))\n",
    "        continue\n",
    "\n",
    "    mus = np.array(mu)[clusters]\n",
    "    coordinate_var = mus.var(axis=0)\n",
    "    ctx = np.zeros(d, dtype=int)\n",
    "    ctx[np.argmax(coordinate_var)] = 1\n",
    "    context_vectors[config] = ctx\n",
    "\n",
    "for x, y in sorted(context_vectors.items(), key=lambda x: x[0]):\n",
    "    print(x, \":\", tuple(y))\n",
    "    \n",
    "\n",
    "\n",
    "# threshold on pairwise distance for classifying as edge or no edge\n",
    "d_thresh = 3\n",
    "\n",
    "############################ Initi the GMM object #####################################\n",
    "# init the params for the GMM model\n",
    "# all the Categories are uniformly distributes\n",
    "# initialize a Gaussian mixture model\n",
    "np.random.seed(0)\n",
    "gmm = [\n",
    "    multivariate_normal(mean=mu[i], cov=covar[i])\n",
    "    for i in range(num_inp_categories)\n",
    "]\n",
    "#################################### Sampling #####################################\n",
    "# Sample n number of examples from the GMM\n",
    "samples = []\n",
    "# value at index i of labels is the label of the ith sample\n",
    "_labels = []\n",
    "# iterate through each Gaussian\n",
    "for _i, dist in enumerate(gmm):\n",
    "    # draw samples from this gaussian\n",
    "    samples += list(dist.rvs(size=n//num_inp_categories))\n",
    "    _labels += [_i for _ in range(n//num_inp_categories)]\n",
    "samples = np.array(samples)\n",
    "_labels = np.array(_labels)\n",
    "rand_shuff_indices = np.random.permutation(n)\n",
    "samples = samples[rand_shuff_indices]\n",
    "_labels = _labels[rand_shuff_indices]\n",
    "\n",
    "\n",
    "\n",
    "######################### create the input sets for queries ####################\n",
    "# Calculate the num of combinations: n \\choose num_images_per_query\n",
    "# placeholder for the features in each query\n",
    "# images shown in each query\n",
    "query_imgs = list(permutations(range(n), r=num_images_per_query))\n",
    "num_queries = len(query_imgs)\n",
    "\n",
    "query_features = torch.empty((num_queries, math.comb(num_images_per_query, 2)))\n",
    "query_features_with_context = torch.empty((num_queries, math.comb(num_images_per_query, 2)))\n",
    "\n",
    "# labels\n",
    "config_labels = torch.empty(num_queries, dtype=int)\n",
    "# get all the legal configurations possible\n",
    "legalConfs = find_legalConfigs(num_images_per_query)\n",
    "# create a dictionary by enumerating the legal configs\n",
    "configs = {j: i for i,j in enumerate(legalConfs[::-1])}\n",
    "reverse_config = {i: j for i,j in enumerate(legalConfs[::-1])}\n",
    "\n",
    "distance_noise_weight = 1\n",
    "\n",
    "# updating the parameters for each query based on the images in it s\n",
    "query_img_indices = []\n",
    "for count, query in enumerate(query_imgs):\n",
    "    query_img_indices.append(query)\n",
    "    context = tuple(np.sort(_labels[list(query)]))\n",
    "    context_vector = context_vectors[context]\n",
    "\n",
    "    true_clusters = tuple(sorted(_labels[list(query)]))\n",
    "    true_context_vec = context_vectors[true_clusters]\n",
    "\n",
    "    noises = multivariate_normal(mean=[0, 0], cov=[[0.001, 0], [0, 0.001]]).rvs(size=num_images_per_query)\n",
    "    for _i, (i_and_idx, j_and_idx) in enumerate(combinations(zip(query, range(len(query))), 2)):\n",
    "        i, i_idx = i_and_idx\n",
    "        j, j_idx = j_and_idx\n",
    "\n",
    "        # calculate the distance\n",
    "        query_features[count, _i] = np.linalg.norm((samples[i] - samples[j]), 2)\n",
    "        query_features_with_context[count, _i] = np.linalg.norm((samples[i] * true_context_vec - samples[j] * true_context_vec), 2)\n",
    "\n",
    "        # find the labels\n",
    "query_features = torch.hstack( (query_features, torch.tensor(query_img_indices)) )\n",
    "query_features_with_context = torch.hstack( (query_features_with_context, torch.tensor(query_img_indices)) )\n",
    "\n",
    "\n",
    "\n",
    "train_size = int(0.9 * num_queries)\n",
    "test_size = num_queries - train_size"
   ]
  },
  {
   "cell_type": "code",
   "execution_count": 72,
   "metadata": {
    "cell_id": "9fd26b16d82c402abfc5eb7129b4bde7",
    "deepnote_app_coordinates": {
     "h": 5,
     "w": 12,
     "x": 0,
     "y": 0
    },
    "deepnote_cell_type": "code",
    "deepnote_to_be_reexecuted": true,
    "execution_millis": 6,
    "execution_start": 1658342217837,
    "source_hash": "a34971d4",
    "tags": []
   },
   "outputs": [
    {
     "data": {
      "text/plain": [
       "array([2, 0, 2, 1, 2, 2, 1, 0, 2, 2, 1, 2, 0, 1, 2, 0, 0, 1, 0, 1, 0, 1,\n",
       "       2, 0, 0, 0, 2, 0, 1, 2, 1, 1, 1])"
      ]
     },
     "execution_count": 72,
     "metadata": {},
     "output_type": "execute_result"
    }
   ],
   "source": [
    "_labels"
   ]
  },
  {
   "cell_type": "code",
   "execution_count": 73,
   "metadata": {
    "cell_id": "00005-28a6f3b4-d2b3-4588-9eab-b17791800d28",
    "deepnote_app_coordinates": {
     "h": 5,
     "w": 12,
     "x": 0,
     "y": 0
    },
    "deepnote_cell_type": "code",
    "deepnote_to_be_reexecuted": true,
    "execution_millis": 64,
    "execution_start": 1658342217844,
    "source_hash": "c612015b",
    "tags": []
   },
   "outputs": [],
   "source": [
    "savemat(\"inputs.mat\",\n",
    "        {\n",
    "            \"point\": samples,\n",
    "            \"label\": _labels,\n",
    "            \"query_image_indices\": query_imgs,\n",
    "            \"query_r\": query_features[:, :3].numpy()\n",
    "        }\n",
    ")"
   ]
  },
  {
   "cell_type": "code",
   "execution_count": 74,
   "metadata": {
    "cell_id": "00006-7b3c65f5-1785-4c7b-8dd7-d2816bd795bb",
    "deepnote_app_coordinates": {
     "h": 5,
     "w": 12,
     "x": 0,
     "y": 0
    },
    "deepnote_cell_type": "code",
    "deepnote_to_be_reexecuted": true,
    "execution_millis": 5,
    "execution_start": 1658342217911,
    "source_hash": "a34971d4",
    "tags": []
   },
   "outputs": [
    {
     "data": {
      "text/plain": [
       "array([2, 0, 2, 1, 2, 2, 1, 0, 2, 2, 1, 2, 0, 1, 2, 0, 0, 1, 0, 1, 0, 1,\n",
       "       2, 0, 0, 0, 2, 0, 1, 2, 1, 1, 1])"
      ]
     },
     "execution_count": 74,
     "metadata": {},
     "output_type": "execute_result"
    }
   ],
   "source": [
    "_labels"
   ]
  },
  {
   "cell_type": "code",
   "execution_count": 75,
   "metadata": {},
   "outputs": [
    {
     "data": {
      "image/png": "[encoded data removed]",
      "text/plain": [
       "<Figure size 432x288 with 1 Axes>"
      ]
     },
     "metadata": {
      "needs_background": "light"
     },
     "output_type": "display_data"
    }
   ],
   "source": [
    "plt.scatter(samples[:, 0], samples[:, 1], c=_labels)\n",
    "plt.title(\"True representations\")\n",
    "plt.xlabel('x1')\n",
    "plt.ylabel('x2')\n",
    "plt.show()"
   ]
  },
  {
   "cell_type": "code",
   "execution_count": 76,
   "metadata": {},
   "outputs": [
    {
     "data": {
      "text/plain": [
       "<AxesSubplot:ylabel='Count'>"
      ]
     },
     "execution_count": 76,
     "metadata": {},
     "output_type": "execute_result"
    },
    {
     "data": {
      "image/png": "[encoded data removed]",
      "text/plain": [
       "<Figure size 432x288 with 1 Axes>"
      ]
     },
     "metadata": {
      "needs_background": "light"
     },
     "output_type": "display_data"
    }
   ],
   "source": [
    "sns.histplot(query_features[:, :num_pair_in_q].ravel())"
   ]
  },
  {
   "cell_type": "code",
   "execution_count": 77,
   "metadata": {},
   "outputs": [
    {
     "data": {
      "text/plain": [
       "<AxesSubplot:ylabel='Count'>"
      ]
     },
     "execution_count": 77,
     "metadata": {},
     "output_type": "execute_result"
    },
    {
     "data": {
      "image/png": "[encoded data removed]",
      "text/plain": [
       "<Figure size 432x288 with 1 Axes>"
      ]
     },
     "metadata": {
      "needs_background": "light"
     },
     "output_type": "display_data"
    }
   ],
   "source": [
    "sns.histplot(query_features_with_context[:, :num_pair_in_q].ravel())"
   ]
  },
  {
   "cell_type": "markdown",
   "metadata": {
    "cell_id": "00009-b2f81229-cff1-400d-9d52-c3c8f5a9bfb7",
    "deepnote_app_coordinates": {
     "h": 5,
     "w": 12,
     "x": 0,
     "y": 0
    },
    "deepnote_cell_type": "markdown",
    "tags": []
   },
   "source": [
    "### Model definition and declaration"
   ]
  },
  {
   "cell_type": "code",
   "execution_count": 78,
   "metadata": {
    "cell_id": "00010-b5de4c6e-cd75-455b-bd93-5ac80aa55738",
    "deepnote_app_coordinates": {
     "h": 5,
     "w": 12,
     "x": 0,
     "y": 36
    },
    "deepnote_cell_type": "code",
    "deepnote_to_be_reexecuted": true,
    "execution_millis": 0,
    "execution_start": 1658342220295,
    "source_hash": "5509ef91"
   },
   "outputs": [],
   "source": [
    "# Simple 1 Layer Neural net\n",
    "class simpleClsNet(nn.Module):\n",
    "    def __init__(self, input_size, num_valid_configs):\n",
    "        super(simpleClsNet, self).__init__()\n",
    "        self.lin = nn.Linear(input_size, num_valid_configs, bias=True)\n",
    "\n",
    "    def forward(self, x):\n",
    "        x = self.lin(x)\n",
    "        return x"
   ]
  },
  {
   "cell_type": "code",
   "execution_count": 79,
   "metadata": {
    "cell_id": "630e9bbf51624a8bb93eb89cf5783ee0",
    "deepnote_app_coordinates": {
     "h": 5,
     "w": 12,
     "x": 0,
     "y": 0
    },
    "deepnote_cell_type": "code",
    "deepnote_to_be_reexecuted": true,
    "execution_millis": 309,
    "execution_start": 1658342220296,
    "source_hash": "17fb7dce",
    "tags": []
   },
   "outputs": [
    {
     "name": "stdout",
     "output_type": "stream",
     "text": [
      "simpleClsNet(\n",
      "  (lin): Linear(in_features=3, out_features=5, bias=True)\n",
      ")\n"
     ]
    }
   ],
   "source": [
    "# create a train network\n",
    "net_train = simpleClsNet(math.comb(num_images_per_query, 2), num_valid_configs)\n",
    "print(net_train)"
   ]
  },
  {
   "cell_type": "markdown",
   "metadata": {
    "cell_id": "00011-a77c8434-5453-4708-b6e9-6b10dcf0530f",
    "deepnote_app_coordinates": {
     "h": 5,
     "w": 12,
     "x": 0,
     "y": 0
    },
    "deepnote_cell_type": "markdown",
    "tags": []
   },
   "source": [
    "### Initialize the network weights"
   ]
  },
  {
   "cell_type": "code",
   "execution_count": 80,
   "metadata": {
    "cell_id": "00012-2643b0a8-c929-41a2-8433-ee3d1f1e9529",
    "deepnote_app_coordinates": {
     "h": 5,
     "w": 12,
     "x": 0,
     "y": 42
    },
    "deepnote_cell_type": "code",
    "deepnote_to_be_reexecuted": true,
    "execution_millis": 310,
    "execution_start": 1658342220296,
    "source_hash": "d3ca93e0",
    "tags": []
   },
   "outputs": [
    {
     "name": "stdout",
     "output_type": "stream",
     "text": [
      "random weight: Parameter containing:\n",
      "tensor([[-1., -1., -1.],\n",
      "        [-1.,  1.,  1.],\n",
      "        [ 1., -1.,  1.],\n",
      "        [ 1.,  1., -1.],\n",
      "        [ 1.,  1.,  1.]], requires_grad=True)\n",
      "random bias: Parameter containing:\n",
      "tensor([ 9., -3., -3., -3., -9.], requires_grad=True)\n",
      "initialized weight: Parameter containing:\n",
      "tensor([[-1.1422, -1.4094, -1.5550],\n",
      "        [-1.5519,  1.0857,  1.1418],\n",
      "        [ 1.1338, -0.7702,  0.8450],\n",
      "        [ 0.8442,  0.3241, -0.4494],\n",
      "        [ 1.2111,  0.7923,  0.9011]], requires_grad=True)\n",
      "initialized bias: Parameter containing:\n",
      "tensor([ 8.5621, -3.2713, -2.6431, -3.2819, -9.1040], requires_grad=True)\n"
     ]
    }
   ],
   "source": [
    "bias = 3\n",
    "W = np.array( [\n",
    "    [-1, -1, -1],\n",
    "    [-1, 1,   1],\n",
    "    [1, -1,   1],\n",
    "    [1,  1,  -1],\n",
    "    [1,  1,   1]\n",
    "] ,dtype='float32')\n",
    "b = -bias * W @ np.ones((3, 1))\n",
    "b = b.astype('float32').reshape(-1)\n",
    "\n",
    "net_random_weight = simpleClsNet(math.comb(num_images_per_query, 2), num_valid_configs)\n",
    "with torch.no_grad():\n",
    "    net_random_weight.lin.weight = nn.parameter.Parameter(torch.tensor(W))\n",
    "    net_random_weight.lin.bias = nn.parameter.Parameter(torch.tensor(b))\n",
    "    noise_weight = 0.3 # 1\n",
    "    net_train.lin.weight = nn.parameter.Parameter(torch.tensor(W) + torch.randn(W.shape) * noise_weight) # std was 0.1\n",
    "    net_train.lin.bias = nn.parameter.Parameter(torch.tensor(b) + torch.randn(b.shape) * noise_weight) # std was 0.1\n",
    "    print(f\"random weight: {net_random_weight.lin.weight}\")\n",
    "    print(f\"random bias: {net_random_weight.lin.bias}\")\n",
    "    print(f\"initialized weight: {net_train.lin.weight}\")\n",
    "    print(f\"initialized bias: {net_train.lin.bias}\")"
   ]
  },
  {
   "cell_type": "markdown",
   "metadata": {
    "cell_id": "00014-055ccf3b-62bc-4f91-8605-2bb4b25aae3f",
    "deepnote_app_coordinates": {
     "h": 5,
     "w": 12,
     "x": 0,
     "y": 228
    },
    "deepnote_cell_type": "markdown",
    "tags": []
   },
   "source": [
    "### Generating the labels according to the distribution"
   ]
  },
  {
   "cell_type": "code",
   "execution_count": 81,
   "metadata": {
    "cell_id": "00015-2484f1a1-37d9-4689-9c92-a34ea7b531b2",
    "deepnote_app_coordinates": {
     "h": 5,
     "w": 12,
     "x": 0,
     "y": 48
    },
    "deepnote_cell_type": "code",
    "deepnote_to_be_reexecuted": true,
    "execution_millis": 4360,
    "execution_start": 1658342220303,
    "source_hash": "cec651f6",
    "tags": []
   },
   "outputs": [
    {
     "name": "stdout",
     "output_type": "stream",
     "text": [
      "{0, 1, 2, 3, 4}\n",
      "0.8797653958944281\n"
     ]
    },
    {
     "data": {
      "image/png": "[encoded data removed]",
      "text/plain": [
       "<Figure size 432x288 with 1 Axes>"
      ]
     },
     "metadata": {
      "needs_background": "light"
     },
     "output_type": "display_data"
    }
   ],
   "source": [
    "random_weight_net_labels = []\n",
    "acc = 0\n",
    "with torch.no_grad():\n",
    "    for query_feature in query_features_with_context:\n",
    "        feature = query_feature[:3]\n",
    "        logits = net_random_weight(feature)\n",
    "        p = torch.nn.functional.softmax(logits, dim=0)\n",
    "        p = p.numpy().astype(np.float128)\n",
    "        p = p / np.sum(p)\n",
    "        label = multinomial.rvs(n=1, p=p)\n",
    "        random_weight_net_labels.append(np.argmax(label))\n",
    "        acc += int(np.argmax(label) == torch.argmax(logits))\n",
    "print(set(random_weight_net_labels))\n",
    "plt.hist(random_weight_net_labels, bins=10)\n",
    "print(acc/query_features_with_context.shape[0])"
   ]
  },
  {
   "cell_type": "markdown",
   "metadata": {
    "cell_id": "00016-70bb9751-6939-4669-a697-1106d00af5ba",
    "deepnote_app_coordinates": {
     "h": 5,
     "w": 12,
     "x": 0,
     "y": 0
    },
    "deepnote_cell_type": "markdown",
    "tags": []
   },
   "source": [
    "### Create the data set and the train and test sets"
   ]
  },
  {
   "cell_type": "code",
   "execution_count": 82,
   "metadata": {
    "cell_id": "00017-5b1d342f-39bd-457f-bc71-34cca23cc1ea",
    "deepnote_app_coordinates": {
     "h": 5,
     "w": 12,
     "x": 0,
     "y": 54
    },
    "deepnote_cell_type": "code",
    "deepnote_to_be_reexecuted": true,
    "execution_millis": 9909,
    "execution_start": 1658342224715,
    "source_hash": "5bd85f3c",
    "tags": []
   },
   "outputs": [],
   "source": [
    "noisy_query_features = torch.clone(query_features_with_context)\n",
    "for noisy_query in noisy_query_features:\n",
    "    noisy_query[:3] += truncnorm.rvs(-torch.min(noisy_query[:3]), np.Inf, size=3) * 0.0 # 0.25\n",
    "data_set_random_weight = SimpleEuclideanDataset(noisy_query_features, random_weight_net_labels)\n",
    "train_set_random_weight, test_set_random_weight = torch.utils.data.random_split(data_set_random_weight, [train_size, test_size], generator=torch.Generator().manual_seed(42))\n",
    "train_loader_random_weight = DataLoader(train_set_random_weight, batch_size=train_size, shuffle=True, generator=torch.Generator().manual_seed(42))\n",
    "test_loader_random_weight = DataLoader(test_set_random_weight, batch_size=test_size, shuffle=True, generator=torch.Generator().manual_seed(42))"
   ]
  },
  {
   "cell_type": "code",
   "execution_count": 83,
   "metadata": {
    "cell_id": "00018-cafc22e4-0626-47cd-bba3-5c41e5b2cf2b",
    "deepnote_app_coordinates": {
     "h": 5,
     "w": 12,
     "x": 0,
     "y": 0
    },
    "deepnote_cell_type": "code",
    "deepnote_to_be_reexecuted": true,
    "execution_millis": 1722,
    "execution_start": 1658342234625,
    "source_hash": "ed184d70",
    "tags": []
   },
   "outputs": [],
   "source": [
    "pair_dist_init_dict = {}\n",
    "for _nq in noisy_query_features:\n",
    "    dists = _nq[:3]\n",
    "    inds = _nq[3:].int()\n",
    "    for (_pair, _d) in zip(combinations(inds, 2), dists):\n",
    "        _p = tuple(np.sort(_pair))\n",
    "        if _p not in pair_dist_init_dict:\n",
    "            pair_dist_init_dict[_p] = _d.item()"
   ]
  },
  {
   "cell_type": "code",
   "execution_count": 84,
   "metadata": {
    "cell_id": "00019-70dbb838-6181-4e94-bdb3-d13f13d4ccca",
    "deepnote_app_coordinates": {
     "h": 5,
     "w": 12,
     "x": 0,
     "y": 240
    },
    "deepnote_cell_type": "code",
    "deepnote_to_be_reexecuted": true,
    "execution_millis": 1074,
    "execution_start": 1658342236355,
    "source_hash": "52963463",
    "tags": []
   },
   "outputs": [
    {
     "data": {
      "image/png": "[encoded data removed]",
      "text/plain": [
       "<Figure size 432x288 with 1 Axes>"
      ]
     },
     "metadata": {
      "needs_background": "light"
     },
     "output_type": "display_data"
    }
   ],
   "source": [
    "sns.histplot(torch.ravel(noisy_query_features[:, :3]))\n",
    "plt.show()"
   ]
  },
  {
   "cell_type": "markdown",
   "metadata": {
    "cell_id": "00020-e472b782-73b5-46cb-9de3-07786acd52e4",
    "deepnote_app_coordinates": {
     "h": 5,
     "w": 12,
     "x": 0,
     "y": 0
    },
    "deepnote_cell_type": "markdown",
    "tags": []
   },
   "source": [
    "### training hyper params"
   ]
  },
  {
   "cell_type": "code",
   "execution_count": 85,
   "metadata": {
    "cell_id": "00021-f84cfbc2-b259-471a-94ca-ae9f33a9a561",
    "deepnote_app_coordinates": {
     "h": 5,
     "w": 12,
     "x": 0,
     "y": 60
    },
    "deepnote_cell_type": "code",
    "deepnote_to_be_reexecuted": true,
    "execution_millis": 2,
    "execution_start": 1658342237346,
    "source_hash": "cf4b4d4d",
    "tags": []
   },
   "outputs": [],
   "source": [
    "# define the loss function and the optimizer\n",
    "criterion = nn.CrossEntropyLoss()\n",
    "optimizer = optim.SGD(net_train.parameters(), lr=0.001, weight_decay=0.0001)\n",
    "lr_x = 0.001\n",
    "lambda_x = 0"
   ]
  },
  {
   "cell_type": "code",
   "execution_count": 86,
   "metadata": {
    "cell_id": "00022-00c6779e-532e-4661-aaca-8f32df55279f",
    "deepnote_app_coordinates": {
     "h": 5,
     "w": 12,
     "x": 0,
     "y": 66
    },
    "deepnote_cell_type": "code",
    "deepnote_to_be_reexecuted": true,
    "execution_millis": 4,
    "execution_start": 1658342237351,
    "source_hash": "3f66d7cd"
   },
   "outputs": [],
   "source": [
    "losses = []\n",
    "avg_num_pair_occ = (train_size*num_pair_in_q / math.comb(n,2)) / num_inp_categories"
   ]
  },
  {
   "cell_type": "markdown",
   "metadata": {
    "cell_id": "00023-a6584546-2492-427c-95d0-7a5abd3f5b26",
    "deepnote_app_coordinates": {
     "h": 5,
     "w": 12,
     "x": 0,
     "y": 72
    },
    "deepnote_cell_type": "text-cell-h1",
    "formattedRanges": [],
    "is_collapsed": false,
    "tags": []
   },
   "source": [
    "# Set the dataloader"
   ]
  },
  {
   "cell_type": "code",
   "execution_count": 87,
   "metadata": {
    "cell_id": "00024-dae5739b-23d0-4bbf-9b72-449f8aaefd21",
    "deepnote_app_coordinates": {
     "h": 5,
     "w": 12,
     "x": 0,
     "y": 78
    },
    "deepnote_cell_type": "code",
    "deepnote_to_be_reexecuted": true,
    "execution_millis": 2,
    "execution_start": 1658342237358,
    "source_hash": "1e722074",
    "tags": []
   },
   "outputs": [],
   "source": [
    "# train_loader = trainSet_infr\n",
    "train_loader = train_loader_random_weight\n",
    "test_loader = test_loader_random_weight"
   ]
  },
  {
   "cell_type": "code",
   "execution_count": 88,
   "metadata": {},
   "outputs": [],
   "source": [
    "_labels = np.load(\"new_labels.npy\")"
   ]
  },
  {
   "cell_type": "code",
   "execution_count": 89,
   "metadata": {},
   "outputs": [
    {
     "data": {
      "text/plain": [
       "array([0, 1, 0, 2, 0, 0, 2, 1, 0, 0, 2, 0, 1, 2, 0, 1, 1, 0, 1, 0, 1, 2,\n",
       "       0, 1, 1, 1, 0, 1, 2, 0, 2, 2, 0], dtype=int32)"
      ]
     },
     "execution_count": 89,
     "metadata": {},
     "output_type": "execute_result"
    }
   ],
   "source": [
    "_labels"
   ]
  },
  {
   "cell_type": "code",
   "execution_count": 90,
   "metadata": {
    "cell_id": "00025-cf7c73ca-f8f1-4590-bf5a-8c5877dfe036",
    "deepnote_app_coordinates": {
     "h": 5,
     "w": 12,
     "x": 0,
     "y": 84
    },
    "deepnote_cell_type": "code",
    "deepnote_to_be_reexecuted": true,
    "execution_millis": 51549,
    "execution_start": 1658342237368,
    "source_hash": "8d793da4"
   },
   "outputs": [
    {
     "name": "stdout",
     "output_type": "stream",
     "text": [
      "itr = 0\n",
      "epoch: 1, loss = 0.4448\n",
      "epoch: 3, loss = 0.4441\n",
      "epoch: 5, loss = 0.4433\n",
      "epoch: 1, loss = 0.4429\n",
      "epoch: 3, loss = 0.4429\n",
      "itr = 1\n",
      "epoch: 1, loss = 0.4429\n",
      "epoch: 3, loss = 0.4421\n",
      "epoch: 5, loss = 0.4414\n",
      "epoch: 1, loss = 0.4410\n",
      "epoch: 3, loss = 0.4410\n",
      "itr = 2\n",
      "epoch: 1, loss = 0.4410\n",
      "epoch: 3, loss = 0.4403\n",
      "epoch: 5, loss = 0.4395\n",
      "epoch: 1, loss = 0.4392\n",
      "epoch: 3, loss = 0.4392\n",
      "itr = 3\n",
      "epoch: 1, loss = 0.4392\n",
      "epoch: 3, loss = 0.4384\n",
      "epoch: 5, loss = 0.4377\n",
      "epoch: 1, loss = 0.4373\n",
      "epoch: 3, loss = 0.4373\n",
      "itr = 4\n",
      "epoch: 1, loss = 0.4373\n",
      "epoch: 3, loss = 0.4366\n",
      "epoch: 5, loss = 0.4359\n",
      "epoch: 1, loss = 0.4356\n",
      "epoch: 3, loss = 0.4356\n",
      "itr = 5\n",
      "epoch: 1, loss = 0.4356\n",
      "epoch: 3, loss = 0.4348\n",
      "epoch: 5, loss = 0.4341\n",
      "epoch: 1, loss = 0.4338\n",
      "epoch: 3, loss = 0.4338\n",
      "itr = 6\n",
      "epoch: 1, loss = 0.4338\n",
      "epoch: 3, loss = 0.4331\n",
      "epoch: 5, loss = 0.4324\n",
      "epoch: 1, loss = 0.4321\n",
      "epoch: 3, loss = 0.4321\n",
      "itr = 7\n",
      "epoch: 1, loss = 0.4321\n",
      "epoch: 3, loss = 0.4314\n",
      "epoch: 5, loss = 0.4307\n",
      "epoch: 1, loss = 0.4304\n",
      "epoch: 3, loss = 0.4304\n",
      "itr = 8\n",
      "epoch: 1, loss = 0.4304\n",
      "epoch: 3, loss = 0.4297\n",
      "epoch: 5, loss = 0.4291\n",
      "epoch: 1, loss = 0.4287\n",
      "epoch: 3, loss = 0.4287\n",
      "itr = 9\n",
      "epoch: 1, loss = 0.4287\n",
      "epoch: 3, loss = 0.4281\n",
      "epoch: 5, loss = 0.4274\n",
      "epoch: 1, loss = 0.4271\n",
      "epoch: 3, loss = 0.4271\n"
     ]
    }
   ],
   "source": [
    "# training\n",
    "for itr in range(10): # 30\n",
    "    print(f'itr = {itr}')\n",
    "    num_epocs_w = 5 # 50# 10 # 100\n",
    "    num_epocs_x = 3# 3 # 2 works\n",
    "    for epoch in range(num_epocs_w):\n",
    "        # Forward pass\n",
    "        for data, labels in train_loader:\n",
    "            # zero out the gradients\n",
    "            optimizer.zero_grad()\n",
    "            # make predictions\n",
    "            y_predicted = net_train(data[:, :num_pair_in_q])\n",
    "            # Loss calculation\n",
    "            loss = criterion(y_predicted, labels)\n",
    "            # backward pass\n",
    "            loss.backward()\n",
    "            # update params\n",
    "            optimizer.step()\n",
    "        # print some results\n",
    "        if (epoch+1)%2 == 1:\n",
    "            if (epoch+1)%2 == 1:\n",
    "                print(f'epoch: {epoch+1}, loss = {loss.item():.4f}')\n",
    "            losses.append(loss.item())\n",
    "\n",
    "    # Forward pass\n",
    "    for epoch in range(num_epocs_x):\n",
    "        # a dictionary for accumulating the gradients for different pairs in different contexts\n",
    "        grad_accum = {x_: {tuple(np.sort([_labels[x_[0]], _labels[x_[1]], y_])): 0\n",
    "                           for y_ in range(num_inp_categories) } \n",
    "                      for x_ in combinations_with_replacement(range(n), 2)}\n",
    "        for data, labels in train_loader:\n",
    "            # features = copy.deepcopy(data[:,:num_pair_in_q])\n",
    "            data_detached = data.detach()\n",
    "            features = data_detached[:,:num_pair_in_q]\n",
    "            features.requires_grad = True\n",
    "            indices = data_detached[:,num_pair_in_q:].int().tolist()\n",
    "            # predict the labels\n",
    "            y_predicted = net_train(features)\n",
    "            # Loss calculation\n",
    "            loss = criterion(y_predicted, labels)\n",
    "            # zero out the model gradients\n",
    "            net_train.zero_grad()\n",
    "            # backward pass\n",
    "            loss.backward()\n",
    "            # collect the data gradients\n",
    "            data_grad = features.grad.data\n",
    "            # # update the input vectors\n",
    "    \n",
    "            # get the indices out\n",
    "            # indices = data[:, num_pair_in_q:].int().tolist()\n",
    "            # get the clusters in each of the query\n",
    "            clusters = np.sort(_labels[indices], axis=1) # [tuple([_labels[_j] for _j in _i]) for _i in indices]\n",
    "            # accum all the gradients corresponding to each pair\n",
    "            for _ex, _cl, _dgs in zip(indices, clusters, data_grad):\n",
    "                for _pair, _dg in zip(combinations(_ex,2), _dgs):\n",
    "                    d_key1 = tuple(np.sort(_pair))\n",
    "                    d_key2 = tuple(_cl)\n",
    "                    grad_accum[d_key1][d_key2] = grad_accum[d_key1][d_key2] + _dg\n",
    "        \n",
    "            # update the features\n",
    "            # data_detached = data.detach()\n",
    "\n",
    "            # sum_grad = dict(map(lambda kv: (kv[0], sum(kv[1].values()) / len(kv[1].values())), grad_accum.items()))\n",
    "\n",
    "            for _i, (_inds, _cl) in enumerate(zip(indices, clusters)):\n",
    "                for _j, _pair in enumerate(combinations(_inds,2)):\n",
    "                    d_key1 = tuple(np.sort(_pair))\n",
    "                    d_key2 = tuple(_cl)\n",
    "                    data_detached[_i,_j] -= lr_x * grad_accum[d_key1][d_key2] - lambda_x * data_detached[_i,_j]\n",
    "\n",
    "            # clip forces negative values to 0\n",
    "            data_detached = torch.clip(data_detached, min=0.)\n",
    "            # # update the dataset\n",
    "            TrD_infr = SimpleEuclideanDataset(data_detached, labels)\n",
    "            train_loader = DataLoader(TrD_infr, batch_size=train_size, shuffle=True)\n",
    "            # # data.detach()\n",
    "            # del y_predicted\n",
    "            # zero out the gradients\n",
    "            optimizer.zero_grad()\n",
    "\n",
    "         # print some results\n",
    "        if (epoch+1)%2 == 1:\n",
    "            if (epoch+1)%2 == 1:\n",
    "                print(f'epoch: {epoch+1}, loss = {loss.item():.4f}')\n",
    "            losses.append(loss.item())"
   ]
  },
  {
   "cell_type": "code",
   "execution_count": 91,
   "metadata": {
    "cell_id": "00026-43dff894-6e04-42d3-aeea-35f881575b0a",
    "deepnote_app_coordinates": {
     "h": 5,
     "w": 12,
     "x": 0,
     "y": 90
    },
    "deepnote_cell_type": "code",
    "deepnote_to_be_reexecuted": true,
    "execution_millis": 2,
    "execution_start": 1658265238270,
    "source_hash": "2e1aebcf"
   },
   "outputs": [
    {
     "name": "stdout",
     "output_type": "stream",
     "text": [
      "################# TRAINED PARAMS ###################\n",
      "[-1.1387755870819092, -1.4055718183517456, -1.5444563627243042] 8.565025329589844\n",
      "[-1.5520533323287964, 1.079817295074463, 1.1360366344451904] -3.273179054260254\n",
      "[1.1243948936462402, -0.7742852568626404, 0.8393298387527466] -2.645758867263794\n",
      "[0.858101487159729, 0.33797210454940796, -0.4479001760482788] -3.2786056995391846\n",
      "[1.2032519578933716, 0.784617006778717, 0.9005881547927856] -9.105666160583496\n"
     ]
    }
   ],
   "source": [
    "with torch.no_grad():\n",
    "    # print('################# ACTUAL PARAMS ###################')\n",
    "    # print(net_fixed.lin.weight.tolist())\n",
    "    # print(net_fixed.lin.bias.tolist())\n",
    "    print('################# TRAINED PARAMS ###################')\n",
    "    for _i, _j in zip(net_train.lin.weight.tolist(), net_train.lin.bias.tolist()):\n",
    "        print(_i, _j)"
   ]
  },
  {
   "cell_type": "code",
   "execution_count": 92,
   "metadata": {
    "cell_id": "00027-2b59bd37-f952-48b0-8bcc-6e87e8fa6ec8",
    "deepnote_app_coordinates": {
     "h": 5,
     "w": 12,
     "x": 0,
     "y": 96
    },
    "deepnote_cell_type": "code",
    "deepnote_to_be_reexecuted": true,
    "execution_millis": 2,
    "execution_start": 1658265238280,
    "source_hash": "b793b5df",
    "tags": []
   },
   "outputs": [
    {
     "name": "stdout",
     "output_type": "stream",
     "text": [
      "Target Weight\n"
     ]
    },
    {
     "data": {
      "text/plain": [
       "Parameter containing:\n",
       "tensor([[-1., -1., -1.],\n",
       "        [-1.,  1.,  1.],\n",
       "        [ 1., -1.,  1.],\n",
       "        [ 1.,  1., -1.],\n",
       "        [ 1.,  1.,  1.]], requires_grad=True)"
      ]
     },
     "execution_count": 92,
     "metadata": {},
     "output_type": "execute_result"
    }
   ],
   "source": [
    "print(\"Target Weight\")\n",
    "net_random_weight.lin.weight"
   ]
  },
  {
   "cell_type": "code",
   "execution_count": 93,
   "metadata": {
    "cell_id": "00028-ac067c27-fdf4-4db1-8585-1dc2a83672bc",
    "deepnote_app_coordinates": {
     "h": 5,
     "w": 12,
     "x": 0,
     "y": 102
    },
    "deepnote_cell_type": "code",
    "deepnote_to_be_reexecuted": true,
    "execution_millis": 33,
    "execution_start": 1658265238287,
    "source_hash": "50b5bd83",
    "tags": []
   },
   "outputs": [
    {
     "name": "stdout",
     "output_type": "stream",
     "text": [
      "Trained Weight\n"
     ]
    },
    {
     "data": {
      "text/plain": [
       "Parameter containing:\n",
       "tensor([[-1.1388, -1.4056, -1.5445],\n",
       "        [-1.5521,  1.0798,  1.1360],\n",
       "        [ 1.1244, -0.7743,  0.8393],\n",
       "        [ 0.8581,  0.3380, -0.4479],\n",
       "        [ 1.2033,  0.7846,  0.9006]], requires_grad=True)"
      ]
     },
     "execution_count": 93,
     "metadata": {},
     "output_type": "execute_result"
    }
   ],
   "source": [
    "print(\"Trained Weight\")\n",
    "net_train.lin.weight"
   ]
  },
  {
   "cell_type": "code",
   "execution_count": 94,
   "metadata": {
    "cell_id": "00029-7099aff1-3366-4095-9d51-e4cdcb7a217d",
    "deepnote_app_coordinates": {
     "h": 5,
     "w": 12,
     "x": 0,
     "y": 108
    },
    "deepnote_cell_type": "code",
    "deepnote_to_be_reexecuted": true,
    "execution_millis": 6,
    "execution_start": 1658265238315,
    "source_hash": "183c651e",
    "tags": []
   },
   "outputs": [
    {
     "data": {
      "text/plain": [
       "tensor(1.3277, grad_fn=<CopyBackwards>)"
      ]
     },
     "execution_count": 94,
     "metadata": {},
     "output_type": "execute_result"
    }
   ],
   "source": [
    "torch.norm(net_random_weight.lin.weight - net_train.lin.weight)"
   ]
  },
  {
   "cell_type": "code",
   "execution_count": 95,
   "metadata": {
    "cell_id": "00030-c1001821-354d-47ee-8643-4d25b681cb8c",
    "deepnote_app_coordinates": {
     "h": 5,
     "w": 12,
     "x": 0,
     "y": 114
    },
    "deepnote_cell_type": "code",
    "deepnote_to_be_reexecuted": true,
    "execution_millis": 5,
    "execution_start": 1658265238316,
    "source_hash": "aa02e40",
    "tags": []
   },
   "outputs": [
    {
     "name": "stdout",
     "output_type": "stream",
     "text": [
      "Target Bias\n"
     ]
    },
    {
     "data": {
      "text/plain": [
       "Parameter containing:\n",
       "tensor([ 9., -3., -3., -3., -9.], requires_grad=True)"
      ]
     },
     "execution_count": 95,
     "metadata": {},
     "output_type": "execute_result"
    }
   ],
   "source": [
    "print(\"Target Bias\")\n",
    "net_random_weight.lin.bias"
   ]
  },
  {
   "cell_type": "code",
   "execution_count": 96,
   "metadata": {
    "cell_id": "00031-8e136ccd-a5ae-4a76-b49f-1dd567f9440f",
    "deepnote_app_coordinates": {
     "h": 5,
     "w": 12,
     "x": 0,
     "y": 120
    },
    "deepnote_cell_type": "code",
    "deepnote_to_be_reexecuted": true,
    "execution_millis": 6,
    "execution_start": 1658265238317,
    "source_hash": "210763",
    "tags": []
   },
   "outputs": [
    {
     "name": "stdout",
     "output_type": "stream",
     "text": [
      "Trained Bias\n"
     ]
    },
    {
     "data": {
      "text/plain": [
       "Parameter containing:\n",
       "tensor([ 8.5650, -3.2732, -2.6458, -3.2786, -9.1057], requires_grad=True)"
      ]
     },
     "execution_count": 96,
     "metadata": {},
     "output_type": "execute_result"
    }
   ],
   "source": [
    "print(\"Trained Bias\")\n",
    "net_train.lin.bias"
   ]
  },
  {
   "cell_type": "code",
   "execution_count": 97,
   "metadata": {
    "cell_id": "00032-81f044ac-9c01-4851-8509-26fad2af029f",
    "deepnote_app_coordinates": {
     "h": 5,
     "w": 12,
     "x": 0,
     "y": 246
    },
    "deepnote_cell_type": "code",
    "deepnote_to_be_reexecuted": true,
    "execution_millis": 4,
    "execution_start": 1658265238369,
    "source_hash": "89b74bd",
    "tags": []
   },
   "outputs": [
    {
     "data": {
      "text/plain": [
       "tensor(0.6914, grad_fn=<CopyBackwards>)"
      ]
     },
     "execution_count": 97,
     "metadata": {},
     "output_type": "execute_result"
    }
   ],
   "source": [
    "torch.norm(net_random_weight.lin.bias - net_train.lin.bias)"
   ]
  },
  {
   "cell_type": "code",
   "execution_count": 98,
   "metadata": {
    "cell_id": "00034-51658252-6adc-4960-80c7-67f6ee193123",
    "deepnote_app_coordinates": {
     "h": 5,
     "w": 12,
     "x": 0,
     "y": 132
    },
    "deepnote_cell_type": "code",
    "deepnote_to_be_reexecuted": true,
    "execution_millis": 986,
    "execution_start": 1658265238370,
    "source_hash": "706284a5",
    "tags": []
   },
   "outputs": [
    {
     "data": {
      "image/png": "[encoded data removed]",
      "text/plain": [
       "<Figure size 432x288 with 1 Axes>"
      ]
     },
     "metadata": {
      "needs_background": "light"
     },
     "output_type": "display_data"
    }
   ],
   "source": [
    "plt.plot(losses)\n",
    "plt.show()"
   ]
  },
  {
   "cell_type": "code",
   "execution_count": 99,
   "metadata": {
    "cell_id": "00035-0b1c3074-3fcd-4200-94a9-11a316949da4",
    "deepnote_app_coordinates": {
     "h": 5,
     "w": 12,
     "x": 0,
     "y": 138
    },
    "deepnote_cell_type": "code",
    "deepnote_to_be_reexecuted": true,
    "execution_millis": 1578,
    "execution_start": 1658265238602,
    "source_hash": "a5cf3e94",
    "tags": []
   },
   "outputs": [],
   "source": [
    "distances_dictionary = {x: [] for x in combinations(range(n), 2)}\n",
    "cluster_distances = {x: []  for x in combinations_with_replacement(range(num_inp_categories), 2) }\n",
    "cluster_edges = {x: []  for x in combinations_with_replacement(range(num_inp_categories), 2) }\n",
    "pair_dist_in_contxt = {x_: {tuple(np.sort([_labels[x_[0]], _labels[x_[1]], y_])): -1 for y_ in range(num_inp_categories)} for x_ in combinations(range(n), 2)}\n",
    "cls_dist_in_contxt = {x: {tuple(np.sort([x[0], x[1], y_])):[] for y_ in range(num_inp_categories)}  for x in combinations_with_replacement(range(num_inp_categories), 2) }\n",
    "\n",
    "clp_interested = (0,0)\n",
    "pairs_in_clp = []\n",
    "distances_in_clp = []\n",
    "\n",
    "with torch.no_grad():\n",
    "    for data, labels in train_loader:\n",
    "        distances = data[:, :num_pair_in_q]\n",
    "        indices = data[:, num_pair_in_q:]\n",
    "        for i in range(indices.shape[0]):\n",
    "            idx = indices[i]\n",
    "            dist = distances[i]\n",
    "            edges = reverse_config[labels[i].item()]\n",
    "            context = tuple(np.sort([_labels[_j] for _j in idx.int().tolist()]))\n",
    "            for pair, _d, l in zip((combinations(map(int, idx.tolist()), 2)), dist, edges):\n",
    "                if pair in distances_dictionary:\n",
    "                    distances_dictionary[pair].append(_d)\n",
    "                    clstrs = tuple(np.sort((_labels[pair[0]], _labels[pair[1]])))\n",
    "                    cluster_distances[clstrs].append(_d)\n",
    "                    cluster_edges[clstrs] = l\n",
    "                    pair_dist_in_contxt[pair][context] = _d\n",
    "                    cls_dist_in_contxt[clstrs][context].append(_d)\n",
    "                    if clstrs == clp_interested:\n",
    "                        pairs_in_clp.append(pair)\n",
    "                        distances_in_clp.append(_d.item())\n",
    "\n"
   ]
  },
  {
   "cell_type": "code",
   "execution_count": 100,
   "metadata": {
    "cell_id": "00036-56a9e7ad-e8cc-42e8-9317-97d4deb133a4",
    "deepnote_app_coordinates": {
     "h": 5,
     "w": 12,
     "x": 0,
     "y": 0
    },
    "deepnote_cell_type": "code",
    "deepnote_to_be_reexecuted": true,
    "execution_millis": 3711,
    "execution_start": 1658265240194,
    "source_hash": "2196dc04",
    "tags": []
   },
   "outputs": [],
   "source": [
    "true_pair_distances = {(_i, _j) : np.linalg.norm(samples[_i] - samples[_j])   for _i, _j in combinations(range(n), 2) }\n",
    "est_pair_distances = {(_i, _j) : []   for _i, _j in combinations(range(n), 2) }\n",
    "est_pair_distances_with_context = {(_i, _j): {} for _i, _j in combinations(range(n), 2)}\n",
    "\n",
    "for data, label in train_loader:\n",
    "    dists = data[:,:3]\n",
    "    inds = data[:, 3:].int()\n",
    "    for _ind, _dist in zip(inds, dists):\n",
    "        true_clusters = tuple(sorted(_labels[list(_ind)]))\n",
    "        for _p, _d in zip(combinations(_ind, 2), _dist):\n",
    "            d_key = tuple(np.sort(_p))\n",
    "            est_pair_distances[d_key].append(_d.item())\n",
    "            if true_clusters not in est_pair_distances_with_context[d_key]:\n",
    "                est_pair_distances_with_context[d_key][true_clusters] = [_d.item()]\n",
    "            else:\n",
    "                est_pair_distances_with_context[d_key][true_clusters].append(_d.item())"
   ]
  },
  {
   "cell_type": "code",
   "execution_count": 101,
   "metadata": {
    "cell_id": "00037-30d55221-c759-4891-a13d-80e872ca99e4",
    "deepnote_cell_type": "code",
    "deepnote_to_be_reexecuted": true,
    "execution_millis": 830,
    "execution_start": 1658265243933,
    "source_hash": "dd35bad5",
    "tags": []
   },
   "outputs": [],
   "source": [
    "avg_est_pair_dists = {_x: np.mean(_y) for (_x,_y) in est_pair_distances.items()}\n",
    "pair_count = {}\n",
    "# get the prob of edge between the pairs\n",
    "pair_edge_prob = {}\n",
    "for data, label in train_loader:\n",
    "    inds = data[:, 3:].int().tolist()\n",
    "    edges = list(map(lambda x: reverse_config[x], label.tolist()))\n",
    "    for _inds, _edges in zip(inds, edges):\n",
    "        for _pair, _e in zip(combinations(_inds, 2), _edges):\n",
    "            _p = tuple(np.sort(_pair))\n",
    "            if _p in pair_edge_prob:\n",
    "                pair_edge_prob[_p].append(_e)\n",
    "                pair_count[_p] += 1\n",
    "            else:\n",
    "                pair_edge_prob[_p] = [_e]\n",
    "                pair_count[_p] = 1\n",
    "\n",
    "pair_edge_prob = dict(map(lambda _i: (_i[0], np.mean(_i[1])), pair_edge_prob.items()))"
   ]
  },
  {
   "cell_type": "code",
   "execution_count": 102,
   "metadata": {
    "cell_id": "00039-f9204061-d88c-49ac-8fa2-98a09d0e9b5c",
    "deepnote_app_coordinates": {
     "h": 5,
     "w": 12,
     "x": 0,
     "y": 0
    },
    "deepnote_cell_type": "code",
    "deepnote_to_be_reexecuted": true,
    "execution_millis": 805,
    "execution_start": 1658265244780,
    "source_hash": "542c7e0",
    "tags": []
   },
   "outputs": [
    {
     "data": {
      "image/png": "[encoded data removed]",
      "text/plain": [
       "<Figure size 432x288 with 1 Axes>"
      ]
     },
     "metadata": {
      "needs_background": "light"
     },
     "output_type": "display_data"
    },
    {
     "data": {
      "image/png": "[encoded data removed]",
      "text/plain": [
       "<Figure size 432x288 with 1 Axes>"
      ]
     },
     "metadata": {
      "needs_background": "light"
     },
     "output_type": "display_data"
    },
    {
     "data": {
      "image/png": "[encoded data removed]",
      "text/plain": [
       "<Figure size 432x288 with 1 Axes>"
      ]
     },
     "metadata": {
      "needs_background": "light"
     },
     "output_type": "display_data"
    },
    {
     "data": {
      "image/png": "[encoded data removed]",
      "text/plain": [
       "<Figure size 432x288 with 1 Axes>"
      ]
     },
     "metadata": {
      "needs_background": "light"
     },
     "output_type": "display_data"
    }
   ],
   "source": [
    "pair_edge_prob_list = np.array([pair_edge_prob[_k] for _k in pair_edge_prob.keys()])\n",
    "pair_avg_dist_list = np.array([avg_est_pair_dists[_k] for _k in pair_edge_prob.keys()])\n",
    "pair_true_dist_list = np.array([true_pair_distances[_k] for _k in pair_edge_prob.keys()])\n",
    "pair_init_dist_list = np.array([pair_dist_init_dict[_k] for _k in pair_edge_prob.keys()])\n",
    "\n",
    "plt.scatter(range(len(pair_edge_prob_list)), pair_edge_prob_list[np.argsort(pair_edge_prob_list)])\n",
    "plt.title('Probability of edge between pairs')\n",
    "plt.show()\n",
    "plt.scatter(range(len(pair_edge_prob_list)), pair_avg_dist_list[np.argsort(pair_edge_prob_list)])\n",
    "plt.title('Estimated Pairwise distance')\n",
    "plt.show()\n",
    "plt.scatter(range(len(pair_edge_prob_list)), pair_true_dist_list[np.argsort(pair_edge_prob_list)])\n",
    "plt.title('True Pairwise distances')\n",
    "plt.show()\n",
    "plt.scatter(range(len(pair_edge_prob_list)), pair_init_dist_list[np.argsort(pair_edge_prob_list)])\n",
    "plt.title('Initialized Pairwise distances')\n",
    "plt.show()"
   ]
  },
  {
   "cell_type": "code",
   "execution_count": 103,
   "metadata": {
    "cell_id": "00040-e01079f3-c18e-4ced-97f9-19611882a5d6",
    "deepnote_app_coordinates": {
     "h": 5,
     "w": 12,
     "x": 0,
     "y": 0
    },
    "deepnote_cell_type": "code",
    "deepnote_to_be_reexecuted": true,
    "execution_millis": 9,
    "execution_start": 1658265245585,
    "source_hash": "9b23f264",
    "tags": []
   },
   "outputs": [
    {
     "name": "stdout",
     "output_type": "stream",
     "text": [
      "(0, 3) 0.6964285714285714 [0, 2]\n",
      "(0, 6) 0.6829268292682927 [0, 2]\n",
      "(0, 10) 0.6012269938650306 [0, 2]\n",
      "(0, 13) 0.6381578947368421 [0, 2]\n",
      "(0, 17) 0.625 [0, 0]\n",
      "(0, 19) 0.6627906976744186 [0, 0]\n",
      "(0, 21) 0.6035502958579881 [0, 2]\n",
      "(0, 28) 0.6411764705882353 [0, 2]\n",
      "(0, 30) 0.6265060240963856 [0, 2]\n",
      "(0, 31) 0.5963855421686747 [0, 2]\n",
      "(0, 32) 0.6511627906976745 [0, 0]\n",
      "(2, 3) 0.6727272727272727 [0, 2]\n",
      "(2, 6) 0.6857142857142857 [0, 2]\n",
      "(2, 10) 0.6964285714285714 [0, 2]\n",
      "(2, 13) 0.7100591715976331 [0, 2]\n",
      "(2, 17) 0.6578947368421053 [0, 0]\n",
      "(2, 19) 0.6766467065868264 [0, 0]\n",
      "(2, 21) 0.61875 [0, 2]\n",
      "(2, 28) 0.7018633540372671 [0, 2]\n",
      "(2, 30) 0.7168674698795181 [0, 2]\n",
      "(2, 31) 0.6467065868263473 [0, 2]\n",
      "(2, 32) 0.6787878787878788 [0, 0]\n",
      "(3, 4) 0.6506024096385542 [0, 2]\n",
      "(3, 5) 0.6441717791411042 [0, 2]\n",
      "(3, 8) 0.7272727272727273 [0, 2]\n",
      "(3, 9) 0.6352941176470588 [0, 2]\n",
      "(3, 11) 0.6526946107784432 [0, 2]\n",
      "(3, 14) 0.6976744186046512 [0, 2]\n",
      "(3, 22) 0.6035502958579881 [0, 2]\n",
      "(3, 26) 0.7192982456140351 [0, 2]\n",
      "(3, 29) 0.7294117647058823 [0, 2]\n",
      "(4, 6) 0.6946107784431138 [0, 2]\n",
      "(4, 10) 0.6871165644171779 [0, 2]\n",
      "(4, 13) 0.6746987951807228 [0, 2]\n",
      "(4, 17) 0.6325301204819277 [0, 0]\n",
      "(4, 19) 0.6477987421383647 [0, 0]\n",
      "(4, 21) 0.7125748502994012 [0, 2]\n",
      "(4, 28) 0.6946107784431138 [0, 2]\n",
      "(4, 30) 0.70625 [0, 2]\n",
      "(4, 31) 0.650887573964497 [0, 2]\n",
      "(4, 32) 0.6609195402298851 [0, 0]\n",
      "(5, 6) 0.6265822784810127 [0, 2]\n",
      "(5, 10) 0.6646706586826348 [0, 2]\n",
      "(5, 13) 0.6455696202531646 [0, 2]\n",
      "(5, 17) 0.6196319018404908 [0, 0]\n",
      "(5, 19) 0.7055214723926381 [0, 0]\n",
      "(5, 21) 0.6380368098159509 [0, 2]\n",
      "(5, 28) 0.688622754491018 [0, 2]\n",
      "(5, 30) 0.6746987951807228 [0, 2]\n",
      "(5, 31) 0.6726190476190477 [0, 2]\n",
      "(5, 32) 0.6848484848484848 [0, 0]\n",
      "(6, 8) 0.6724137931034483 [0, 2]\n",
      "(6, 9) 0.6666666666666666 [0, 2]\n",
      "(6, 11) 0.6941176470588235 [0, 2]\n",
      "(6, 14) 0.6890243902439024 [0, 2]\n",
      "(6, 22) 0.6826347305389222 [0, 2]\n",
      "(6, 26) 0.6441717791411042 [0, 2]\n",
      "(6, 29) 0.6385542168674698 [0, 2]\n",
      "(8, 10) 0.6666666666666666 [0, 2]\n",
      "(8, 13) 0.6358024691358025 [0, 2]\n",
      "(8, 17) 0.6272189349112426 [0, 0]\n",
      "(8, 19) 0.6871165644171779 [0, 0]\n",
      "(8, 21) 0.6848484848484848 [0, 2]\n",
      "(8, 28) 0.6257309941520468 [0, 2]\n",
      "(8, 30) 0.7028571428571428 [0, 2]\n",
      "(8, 31) 0.6686046511627907 [0, 2]\n",
      "(8, 32) 0.6705882352941176 [0, 0]\n",
      "(9, 10) 0.6484848484848484 [0, 2]\n",
      "(9, 13) 0.6331360946745562 [0, 2]\n",
      "(9, 17) 0.6705882352941176 [0, 0]\n",
      "(9, 19) 0.6890243902439024 [0, 0]\n",
      "(9, 21) 0.6153846153846154 [0, 2]\n",
      "(9, 28) 0.6666666666666666 [0, 2]\n",
      "(9, 30) 0.6491228070175439 [0, 2]\n",
      "(9, 31) 0.6566265060240963 [0, 2]\n",
      "(9, 32) 0.6705882352941176 [0, 0]\n",
      "(10, 11) 0.6766467065868264 [0, 2]\n",
      "(10, 14) 0.6411764705882353 [0, 2]\n",
      "(10, 22) 0.6402439024390244 [0, 2]\n",
      "(10, 26) 0.6306818181818182 [0, 2]\n",
      "(10, 29) 0.593939393939394 [0, 2]\n",
      "(11, 13) 0.7349397590361446 [0, 2]\n",
      "(11, 17) 0.6818181818181818 [0, 0]\n",
      "(11, 19) 0.6374269005847953 [0, 0]\n",
      "(11, 21) 0.6081871345029239 [0, 2]\n",
      "(11, 28) 0.6746987951807228 [0, 2]\n",
      "(11, 30) 0.6424242424242425 [0, 2]\n",
      "(11, 31) 0.6686746987951807 [0, 2]\n",
      "(11, 32) 0.625 [0, 0]\n",
      "(13, 14) 0.6234567901234568 [0, 2]\n",
      "(13, 22) 0.6608187134502924 [0, 2]\n",
      "(13, 26) 0.6863905325443787 [0, 2]\n",
      "(13, 29) 0.6626506024096386 [0, 2]\n",
      "(14, 17) 0.6358024691358025 [0, 0]\n",
      "(14, 19) 0.7012195121951219 [0, 0]\n",
      "(14, 21) 0.6687116564417178 [0, 2]\n",
      "(14, 28) 0.7041420118343196 [0, 2]\n",
      "(14, 30) 0.7349397590361446 [0, 2]\n",
      "(14, 31) 0.6589595375722543 [0, 2]\n",
      "(14, 32) 0.6686390532544378 [0, 0]\n",
      "(17, 22) 0.6325301204819277 [0, 0]\n",
      "(17, 26) 0.6325301204819277 [0, 0]\n",
      "(17, 29) 0.6121212121212121 [0, 0]\n",
      "(19, 22) 0.7085714285714285 [0, 0]\n",
      "(19, 26) 0.61875 [0, 0]\n",
      "(19, 29) 0.6467065868263473 [0, 0]\n",
      "(21, 22) 0.6526946107784432 [0, 2]\n",
      "(21, 26) 0.6428571428571429 [0, 2]\n",
      "(21, 29) 0.6035502958579881 [0, 2]\n",
      "(22, 28) 0.7202380952380952 [0, 2]\n",
      "(22, 30) 0.630057803468208 [0, 2]\n",
      "(22, 31) 0.6705202312138728 [0, 2]\n",
      "(22, 32) 0.6171428571428571 [0, 0]\n",
      "(26, 28) 0.656441717791411 [0, 2]\n",
      "(26, 30) 0.6823529411764706 [0, 2]\n",
      "(26, 31) 0.6666666666666666 [0, 2]\n",
      "(26, 32) 0.6896551724137931 [0, 0]\n",
      "(28, 29) 0.6792452830188679 [0, 2]\n",
      "(29, 30) 0.63125 [0, 2]\n",
      "(29, 31) 0.6369047619047619 [0, 2]\n",
      "(29, 32) 0.6882352941176471 [0, 0]\n",
      "121\n"
     ]
    }
   ],
   "source": [
    "# find the points in the middle island\n",
    "pairs_in_island = []\n",
    "for _k, _v in avg_est_pair_dists.items():\n",
    "    if _v >= 2.2 and _v <= 3.1:\n",
    "        pairs_in_island.append(_k)\n",
    "        _i, _j = _k\n",
    "        print(_k, pair_edge_prob[_k], sorted((_labels[_i], _labels[_j])))\n",
    "\n",
    "# print(pairs_in_island)\n",
    "print(len(pairs_in_island))"
   ]
  },
  {
   "cell_type": "code",
   "execution_count": 104,
   "metadata": {
    "cell_id": "2cbdd9567b8141d380360c8d49736c24",
    "deepnote_app_coordinates": {
     "h": 5,
     "w": 12,
     "x": 0,
     "y": 0
    },
    "deepnote_cell_type": "code",
    "deepnote_to_be_reexecuted": true,
    "execution_millis": 10,
    "execution_start": 1658265245593,
    "source_hash": "2f876969",
    "tags": []
   },
   "outputs": [
    {
     "data": {
      "text/plain": [
       "array([[-1., -1., -1.],\n",
       "       [-1.,  1.,  1.],\n",
       "       [ 1., -1.,  1.],\n",
       "       [ 1.,  1., -1.],\n",
       "       [ 1.,  1.,  1.]], dtype=float32)"
      ]
     },
     "execution_count": 104,
     "metadata": {},
     "output_type": "execute_result"
    }
   ],
   "source": [
    "np.sign(W)"
   ]
  },
  {
   "cell_type": "code",
   "execution_count": 105,
   "metadata": {
    "cell_id": "d25fbfd46b1f4a14a439d868f7a8123f",
    "deepnote_app_coordinates": {
     "h": 5,
     "w": 12,
     "x": 0,
     "y": 0
    },
    "deepnote_cell_type": "code",
    "deepnote_to_be_reexecuted": true,
    "execution_millis": 11,
    "execution_start": 1658265245626,
    "source_hash": "59d2aaa2",
    "tags": []
   },
   "outputs": [
    {
     "data": {
      "text/plain": [
       "array([[ True,  True,  True],\n",
       "       [ True,  True,  True],\n",
       "       [ True,  True,  True],\n",
       "       [ True,  True,  True],\n",
       "       [ True,  True,  True]])"
      ]
     },
     "execution_count": 105,
     "metadata": {},
     "output_type": "execute_result"
    }
   ],
   "source": [
    "torch.sign(net_train.lin.weight).detach().numpy() == np.sign(W)"
   ]
  },
  {
   "cell_type": "code",
   "execution_count": 106,
   "metadata": {
    "cell_id": "9266fb3c41824fcbb57ff076c2181384",
    "deepnote_app_coordinates": {
     "h": 5,
     "w": 12,
     "x": 0,
     "y": 0
    },
    "deepnote_cell_type": "code",
    "deepnote_to_be_reexecuted": true,
    "execution_millis": 10,
    "execution_start": 1658265245627,
    "source_hash": "b44554bb",
    "tags": []
   },
   "outputs": [
    {
     "data": {
      "text/plain": [
       "Parameter containing:\n",
       "tensor([[-1.1388, -1.4056, -1.5445],\n",
       "        [-1.5521,  1.0798,  1.1360],\n",
       "        [ 1.1244, -0.7743,  0.8393],\n",
       "        [ 0.8581,  0.3380, -0.4479],\n",
       "        [ 1.2033,  0.7846,  0.9006]], requires_grad=True)"
      ]
     },
     "execution_count": 106,
     "metadata": {},
     "output_type": "execute_result"
    }
   ],
   "source": [
    "net_train.lin.weight"
   ]
  },
  {
   "cell_type": "code",
   "execution_count": 107,
   "metadata": {
    "cell_id": "d5c1f718448d4f0aa80b35271a9ae249",
    "deepnote_app_coordinates": {
     "h": 5,
     "w": 12,
     "x": 0,
     "y": 0
    },
    "deepnote_cell_type": "code",
    "deepnote_to_be_reexecuted": true,
    "execution_millis": 9,
    "execution_start": 1658265245628,
    "source_hash": "f6b6e9d0",
    "tags": []
   },
   "outputs": [
    {
     "data": {
      "text/plain": [
       "Parameter containing:\n",
       "tensor([ 8.5650, -3.2732, -2.6458, -3.2786, -9.1057], requires_grad=True)"
      ]
     },
     "execution_count": 107,
     "metadata": {},
     "output_type": "execute_result"
    }
   ],
   "source": [
    "net_train.lin.bias"
   ]
  },
  {
   "cell_type": "code",
   "execution_count": 108,
   "metadata": {
    "cell_id": "c553ff60197d4604bfc360aa634f89dd",
    "deepnote_app_coordinates": {
     "h": 5,
     "w": 12,
     "x": 0,
     "y": 0
    },
    "deepnote_cell_type": "code",
    "deepnote_to_be_reexecuted": true,
    "execution_millis": 0,
    "execution_start": 1658265245632,
    "source_hash": "129d9675",
    "tags": []
   },
   "outputs": [
    {
     "data": {
      "text/plain": [
       "array([ 9., -3., -3., -3., -9.], dtype=float32)"
      ]
     },
     "execution_count": 108,
     "metadata": {},
     "output_type": "execute_result"
    }
   ],
   "source": [
    "b"
   ]
  },
  {
   "cell_type": "markdown",
   "metadata": {
    "cell_id": "00041-7c5dc28b-282b-42db-8366-2ef5fe65b239",
    "deepnote_app_coordinates": {
     "h": 5,
     "w": 12,
     "x": 0,
     "y": 0
    },
    "deepnote_cell_type": "markdown",
    "tags": []
   },
   "source": [
    "### RMS error in distance estimation"
   ]
  },
  {
   "cell_type": "code",
   "execution_count": 109,
   "metadata": {
    "cell_id": "00042-c20f3297-7c6d-4c84-830a-6d98de523fe8",
    "deepnote_cell_type": "code",
    "deepnote_to_be_reexecuted": true,
    "execution_millis": 70,
    "execution_start": 1658265245648,
    "source_hash": "6a4a8df9",
    "tags": []
   },
   "outputs": [
    {
     "name": "stdout",
     "output_type": "stream",
     "text": [
      "0.7800328887931559\n"
     ]
    }
   ],
   "source": [
    "sum_sqr_errs = dict(map(lambda x: (x[0], sum(list(map(lambda y: (y - true_pair_distances[x[0]])**2, x[1])) ) ) , est_pair_distances.items()))\n",
    "rms_err = math.sqrt(sum(sum_sqr_errs.values())/(data.shape[0] * 3))\n",
    "print(rms_err)\n"
   ]
  },
  {
   "cell_type": "code",
   "execution_count": 110,
   "metadata": {
    "cell_id": "00043-edde95bc-fbb1-4073-88d7-531e94844d8c",
    "deepnote_app_coordinates": {
     "h": 5,
     "w": 12,
     "x": 0,
     "y": 0
    },
    "deepnote_cell_type": "code",
    "deepnote_to_be_reexecuted": true,
    "execution_millis": 6,
    "execution_start": 1658265245714,
    "source_hash": "e66cc013",
    "tags": []
   },
   "outputs": [
    {
     "name": "stdout",
     "output_type": "stream",
     "text": [
      "13.713578387577485\n",
      "0.608451307598996\n"
     ]
    }
   ],
   "source": [
    "print(np.mean(np.array(list(true_pair_distances.values())) ** 2) )\n",
    "print(sum(sum_sqr_errs.values())/(data.shape[0] * 3))\n",
    "# np,mean(list( ))"
   ]
  },
  {
   "cell_type": "code",
   "execution_count": 111,
   "metadata": {
    "cell_id": "00044-3562cc3e-9725-4f45-8625-8686f1b4da2c",
    "deepnote_app_coordinates": {
     "h": 5,
     "w": 12,
     "x": 0,
     "y": 0
    },
    "deepnote_cell_type": "code",
    "deepnote_to_be_reexecuted": true,
    "execution_millis": 343,
    "execution_start": 1658265245732,
    "source_hash": "c6ec2922",
    "tags": []
   },
   "outputs": [
    {
     "data": {
      "image/png": "[encoded data removed]",
      "text/plain": [
       "<Figure size 432x288 with 1 Axes>"
      ]
     },
     "metadata": {
      "needs_background": "light"
     },
     "output_type": "display_data"
    }
   ],
   "source": [
    "plt.hist(true_pair_distances.values(), bins=100)\n",
    "plt.show()"
   ]
  },
  {
   "cell_type": "code",
   "execution_count": 112,
   "metadata": {
    "cell_id": "00045-c56fc67e-fd7e-472a-a01a-3d6387b17d8b",
    "deepnote_app_coordinates": {
     "h": 5,
     "w": 12,
     "x": 0,
     "y": 144
    },
    "deepnote_cell_type": "code",
    "deepnote_to_be_reexecuted": true,
    "execution_millis": 41,
    "execution_start": 1658265246085,
    "source_hash": "c1e87ae9",
    "tags": []
   },
   "outputs": [],
   "source": [
    "pairs_in_clp = np.array(pairs_in_clp)\n",
    "pair_dists_dict = {tuple(np.sort(_p)) : _d for _p, _d in zip(pairs_in_clp, distances_in_clp)}\n",
    "all_indices_in_clp = np.unique(np.ravel(pairs_in_clp))\n",
    "queries_with_clp = list(combinations(all_indices_in_clp, 3))\n",
    "dists_for_queries = torch.tensor([ [pair_dists_dict[_pair] for _pair in combinations(_q, 2)] for _q in queries_with_clp])\n",
    "\n",
    "with torch.no_grad():\n",
    "    y_predicted = net_train(dists_for_queries)\n",
    "    y_predicted_cls = torch.argmax(y_predicted, dim=1)\n",
    "    acc = y_predicted_cls.eq(torch.zeros_like(y_predicted_cls)).sum()/float(y_predicted.shape[0])\n",
    "\n",
    "min_var = 100\n",
    "max_var =  -1\n",
    "for _i in dists_for_queries.tolist():\n",
    "    _var = np.var([_i[1], _i[0] ] )\n",
    "    if(_var > max_var): \n",
    "        max_var_at = (_var, _i)\n",
    "        max_var = _var\n",
    "    if(_var < min_var): \n",
    "        min_var_at = (_var, _i)\n",
    "        min_var = _var"
   ]
  },
  {
   "cell_type": "code",
   "execution_count": 113,
   "metadata": {
    "cell_id": "00046-d2b3855a-cb04-4fef-86c7-b9e937b3ca39",
    "deepnote_app_coordinates": {
     "h": 5,
     "w": 12,
     "x": 0,
     "y": 234
    },
    "deepnote_cell_type": "code",
    "deepnote_to_be_reexecuted": true,
    "execution_millis": 2031,
    "execution_start": 1658265246123,
    "source_hash": "f1a38c8a",
    "tags": []
   },
   "outputs": [
    {
     "data": {
      "image/png": "[encoded data removed]",
      "text/plain": [
       "<Figure size 432x288 with 1 Axes>"
      ]
     },
     "metadata": {
      "needs_background": "light"
     },
     "output_type": "display_data"
    }
   ],
   "source": [
    "with torch.no_grad():\n",
    "    for data, labels in train_loader:\n",
    "        sns.histplot(torch.ravel(data[:, :3])).set_title('Histogram of distances while iteratively learning both weights and distances')"
   ]
  },
  {
   "cell_type": "code",
   "execution_count": 114,
   "metadata": {
    "cell_id": "00047-d7b0d544-8b37-4610-b20f-d39b6e9f2f3f",
    "deepnote_app_coordinates": {
     "h": 5,
     "w": 12,
     "x": 0,
     "y": 0
    },
    "deepnote_cell_type": "code",
    "deepnote_to_be_reexecuted": true,
    "execution_millis": 21,
    "execution_start": 1658265248153,
    "source_hash": "c06bc910",
    "tags": []
   },
   "outputs": [
    {
     "data": {
      "text/plain": [
       "tensor(0.4331, grad_fn=<NllLossBackward>)"
      ]
     },
     "execution_count": 114,
     "metadata": {},
     "output_type": "execute_result"
    }
   ],
   "source": [
    "__labels = net_random_weight(query_features[:, :3])\n",
    "loss = criterion(__labels, torch.tensor(random_weight_net_labels))\n",
    "loss"
   ]
  },
  {
   "cell_type": "code",
   "execution_count": 115,
   "metadata": {
    "cell_id": "00048-afb7755a-d51a-4977-ab45-38d3585627b2",
    "deepnote_app_coordinates": {
     "h": 5,
     "w": 12,
     "x": 0,
     "y": 0
    },
    "deepnote_cell_type": "code",
    "deepnote_to_be_reexecuted": true,
    "execution_millis": 687,
    "execution_start": 1658265248175,
    "source_hash": "8ff2e282",
    "tags": []
   },
   "outputs": [
    {
     "data": {
      "text/plain": [
       "tensor(0.4271, grad_fn=<NllLossBackward>)"
      ]
     },
     "execution_count": 115,
     "metadata": {},
     "output_type": "execute_result"
    }
   ],
   "source": [
    "for data, __labels in train_loader:\n",
    "    loss = criterion(net_train(data[:, :3]), __labels)\n",
    "loss"
   ]
  },
  {
   "cell_type": "code",
   "execution_count": 116,
   "metadata": {
    "cell_id": "00049-2303e211-e3da-484e-a3f7-3a7f75e55fff",
    "deepnote_app_coordinates": {
     "h": 5,
     "w": 12,
     "x": 0,
     "y": 150
    },
    "deepnote_cell_type": "code",
    "deepnote_to_be_reexecuted": true,
    "execution_millis": 2096,
    "execution_start": 1658265248848,
    "output_cleared": false,
    "source_hash": "429b86c8",
    "tags": []
   },
   "outputs": [],
   "source": [
    "# for _key in cluster_distances:\n",
    "#     plt.hist(cluster_distances[_key], bins=100)\n",
    "#     plt.title(str(_key))\n",
    "#     plt.show()"
   ]
  },
  {
   "cell_type": "code",
   "execution_count": 117,
   "metadata": {
    "cell_id": "00050-639141a9-bf64-41d9-9744-21d6b6040513",
    "deepnote_app_coordinates": {
     "h": 5,
     "w": 12,
     "x": 0,
     "y": 156
    },
    "deepnote_cell_type": "code",
    "deepnote_to_be_reexecuted": true,
    "execution_millis": 1210,
    "execution_start": 1658265250949,
    "source_hash": "a3625902",
    "tags": []
   },
   "outputs": [],
   "source": [
    "# cls_pair = (0,1)\n",
    "# for key in cls_dist_in_contxt[cls_pair]:\n",
    "#     plt.hist(cls_dist_in_contxt[cls_pair][key], bins=100)\n",
    "#     plt.title(key)\n",
    "#     plt.show()"
   ]
  },
  {
   "cell_type": "code",
   "execution_count": 118,
   "metadata": {
    "cell_id": "00051-1aa94f19-3451-4fd0-b41e-0172196a1385",
    "deepnote_app_coordinates": {
     "h": 5,
     "w": 12,
     "x": 0,
     "y": 162
    },
    "deepnote_cell_type": "code",
    "deepnote_to_be_reexecuted": true,
    "execution_millis": 335,
    "execution_start": 1658265252212,
    "source_hash": "f5299a36"
   },
   "outputs": [
    {
     "name": "stdout",
     "output_type": "stream",
     "text": [
      "train acc = 0.8789287805557251\n",
      "29462\n"
     ]
    }
   ],
   "source": [
    "#################### PLOTS ########################\n",
    "# measure the accuracy of the model\n",
    "with torch.no_grad():\n",
    "    for data, labels in train_loader:\n",
    "        y_predicted = net_train(data[:, :3])\n",
    "        y_predicted_cls = torch.argmax(y_predicted, dim=1)\n",
    "        acc = y_predicted_cls.eq(labels).sum()/float(labels.shape[0])\n",
    "\n",
    "print(f'train acc = {acc.item()}')\n",
    "print(labels.shape[0])\n",
    "\n",
    "if save_data == 1:\n",
    "    data = {'n': [n], \n",
    "            'd': [d],\n",
    "            'num_images_per_query': [num_images_per_query], \n",
    "            'num_clusters': [num_inp_categories], \n",
    "            'num_valid_configs': [num_valid_configs],\n",
    "            'variance of GMM': [var],\n",
    "            'Accuracy': float(f'{acc.item()*100:.2f}'), \n",
    "            'true weights': f'{net_fixed.lin.weight.tolist()}',\n",
    "            'true bias': str(net_fixed.lin.bias.tolist()), \n",
    "            'learnt weights': str(net_train.lin.weight.tolist()), \n",
    "            'learnt bias': str(net_train.lin.bias.tolist())\n",
    "            }\n",
    "    df = pd.DataFrame(data)\n",
    "    df.to_csv(f\"./data/simpleLinModel/n_{n}_o_{num_valid_configs}_c_{num_inp_categories}.csv\", index=False)"
   ]
  },
  {
   "cell_type": "markdown",
   "metadata": {
    "cell_id": "00053-7c0b5762-2015-422c-85bc-72265e730410",
    "deepnote_app_coordinates": {
     "h": 5,
     "w": 12,
     "x": 0,
     "y": 174
    },
    "deepnote_cell_type": "text-cell-h3",
    "formattedRanges": [],
    "is_collapsed": false,
    "tags": []
   },
   "source": [
    "### Testing"
   ]
  },
  {
   "cell_type": "code",
   "execution_count": 119,
   "metadata": {
    "cell_id": "00054-9912a677-62b5-4565-8920-fea1fe1f41a0",
    "deepnote_app_coordinates": {
     "h": 5,
     "w": 12,
     "x": 0,
     "y": 180
    },
    "deepnote_cell_type": "code",
    "deepnote_to_be_reexecuted": true,
    "execution_millis": 574,
    "execution_start": 1658265256016,
    "source_hash": "c5dc1292",
    "tags": []
   },
   "outputs": [
    {
     "name": "stdout",
     "output_type": "stream",
     "text": [
      "Test accuracy: 0.884\n",
      "total test = 527\n",
      "count = 3274\n",
      "num skips = 2747\n"
     ]
    }
   ],
   "source": [
    "num_correct = 0\n",
    "num_total = 0\n",
    "\n",
    "dist = {\n",
    "    \"d\": [],\n",
    "    \"e\": []\n",
    "}\n",
    "\n",
    "count = 0\n",
    "num_skips = 0\n",
    "for data, label in test_set_random_weight:\n",
    "    count +=1\n",
    "    indices = data[num_pair_in_q:].int().tolist()\n",
    "\n",
    "    context = tuple(np.sort([_labels[_i] for _i in indices]))\n",
    "    skip_loop = 0\n",
    "    for pair in combinations(indices, 2):\n",
    "        if pair not in pair_dist_in_contxt or pair_dist_in_contxt[pair][context] == -1:\n",
    "            skip_loop = 1\n",
    "            num_skips += 1\n",
    "            break\n",
    "    if(skip_loop == 1): continue\n",
    "            \n",
    "\n",
    "    distances = torch.tensor([pair_dist_in_contxt[pair][context] for pair in combinations(indices, 2)])\n",
    "    distances.type(torch.DoubleTensor)\n",
    "    dist[\"d\"].append(list(distances.numpy()))\n",
    "    dist[\"e\"].append(label)\n",
    "    # print(data)\n",
    "    # print(distances)\n",
    "\n",
    "    net_train.float()\n",
    "    net_train(distances.float())\n",
    "    predicated_label = torch.argmax(net_train(distances))\n",
    "    if predicated_label == label:\n",
    "        num_correct += 1\n",
    "    num_total += 1\n",
    "\n",
    "print(\"Test accuracy: {:.3f}\".format(num_correct / num_total))\n",
    "print(f'total test = {num_total}')\n",
    "print(f'count = {count}')\n",
    "print(f'num skips = {num_skips}')"
   ]
  },
  {
   "cell_type": "code",
   "execution_count": 120,
   "metadata": {
    "cell_id": "00061-396e5b76-a5b9-497a-bcd1-be52611d5296",
    "deepnote_app_coordinates": {
     "h": 5,
     "w": 12,
     "x": 0,
     "y": 0
    },
    "deepnote_cell_type": "code",
    "deepnote_to_be_reexecuted": true,
    "execution_millis": 433,
    "execution_start": 1658265257100,
    "source_hash": "d55086f0",
    "tags": []
   },
   "outputs": [],
   "source": [
    "for data, _ in train_loader:\n",
    "    trained_query_distances = {}\n",
    "    data = data.numpy()\n",
    "    for row in data:\n",
    "        distances = row[:3]\n",
    "        indices = row[3:]\n",
    "        for _i, (i, j) in enumerate(combinations(range(3), 2)):\n",
    "            key = tuple(sorted((indices[i], indices[j])))\n",
    "            if key in trained_query_distances:\n",
    "                trained_query_distances[key].append(distances[_i])\n",
    "            else:\n",
    "                trained_query_distances[key] = [distances[_i]]"
   ]
  },
  {
   "cell_type": "code",
   "execution_count": 121,
   "metadata": {
    "cell_id": "00062-9df35455-4005-4487-af5f-cfcef36f163f",
    "deepnote_app_coordinates": {
     "h": 5,
     "w": 12,
     "x": 0,
     "y": 0
    },
    "deepnote_cell_type": "code",
    "deepnote_to_be_reexecuted": true,
    "execution_millis": 0,
    "execution_start": 1658265257559,
    "source_hash": "1d210c63",
    "tags": []
   },
   "outputs": [],
   "source": [
    "avg_trained_query_distances = {}\n",
    "for k, v in trained_query_distances.items():\n",
    "    avg_trained_query_distances[str(k)] = np.mean(v)"
   ]
  },
  {
   "cell_type": "code",
   "execution_count": 122,
   "metadata": {
    "cell_id": "00063-37701c23-bda5-406b-a7e8-69f64b09590f",
    "deepnote_app_coordinates": {
     "h": 5,
     "w": 12,
     "x": 0,
     "y": 0
    },
    "deepnote_cell_type": "code",
    "deepnote_to_be_reexecuted": true,
    "execution_millis": 17,
    "execution_start": 1658265257563,
    "source_hash": "d50e7ac8",
    "tags": []
   },
   "outputs": [],
   "source": [
    "pd.DataFrame(avg_trained_query_distances.values(), index=avg_trained_query_distances.keys()).to_csv(\"avg_trained_query_reg.csv\", header=False)"
   ]
  },
  {
   "cell_type": "code",
   "execution_count": 123,
   "metadata": {
    "cell_id": "00064-325150fe-9412-4a6a-ac81-3e4101f7ec27",
    "deepnote_app_coordinates": {
     "h": 5,
     "w": 12,
     "x": 0,
     "y": 0
    },
    "deepnote_cell_type": "code",
    "deepnote_to_be_reexecuted": true,
    "execution_millis": 550,
    "execution_start": 1658265257583,
    "source_hash": "fe09da5f",
    "tags": []
   },
   "outputs": [],
   "source": [
    "true_dists = {}\n",
    "for query in query_features:\n",
    "    dists = query[:num_pair_in_q]\n",
    "    inds = query[num_pair_in_q:].int().tolist()\n",
    "    for _pair, _dist in zip(combinations(inds, 2), dists):\n",
    "        _key = tuple(sorted(_pair))\n",
    "        if str(_key) not in true_dists:\n",
    "            true_dists[str(_key)] = _dist\n",
    "\n",
    "\n",
    "pd.DataFrame(true_dists.values(), index=true_dists.keys()).to_csv(\"true_dists.csv\", header=False)"
   ]
  },
  {
   "cell_type": "markdown",
   "metadata": {
    "cell_id": "0ed234a1c5ab49e9b03ac51add43fad1",
    "deepnote_app_coordinates": {
     "h": 5,
     "w": 12,
     "x": 0,
     "y": 0
    },
    "deepnote_cell_type": "text-cell-h1",
    "formattedRanges": [],
    "is_collapsed": false,
    "tags": []
   },
   "source": [
    "# Get the context"
   ]
  },
  {
   "cell_type": "code",
   "execution_count": 124,
   "metadata": {
    "cell_id": "4a8e3057bffc454c88e9d6157f547268",
    "deepnote_app_coordinates": {
     "h": 5,
     "w": 12,
     "x": 0,
     "y": 0
    },
    "deepnote_cell_type": "code",
    "deepnote_to_be_reexecuted": true,
    "execution_millis": 3,
    "execution_start": 1658265258137,
    "source_hash": "3339f8e5",
    "tags": []
   },
   "outputs": [],
   "source": [
    "from copy import deepcopy\n",
    "import pandas as pd\n",
    "import pickle"
   ]
  },
  {
   "cell_type": "code",
   "execution_count": null,
   "metadata": {
    "cell_id": "7c55e778c8d1409bada5221583dd28cc",
    "deepnote_app_coordinates": {
     "h": 5,
     "w": 12,
     "x": 0,
     "y": 0
    },
    "deepnote_cell_type": "code",
    "deepnote_to_be_reexecuted": true,
    "execution_millis": 1,
    "execution_start": 1658265259134,
    "source_hash": "1a41a4ed",
    "tags": []
   },
   "outputs": [],
   "source": [
    "_dist = deepcopy(est_pair_distances_with_context)"
   ]
  },
  {
   "cell_type": "code",
   "execution_count": null,
   "metadata": {
    "cell_id": "bd3bfdf3a63a4887a93c7348507ed197",
    "deepnote_app_coordinates": {
     "h": 5,
     "w": 12,
     "x": 0,
     "y": 0
    },
    "deepnote_cell_type": "code",
    "deepnote_to_be_reexecuted": true,
    "execution_millis": 28,
    "execution_start": 1658265259139,
    "source_hash": "fd636d8d",
    "tags": []
   },
   "outputs": [],
   "source": [
    "for k, v in _dist.items():\n",
    "    for _k in v.keys():\n",
    "        v[_k] = np.mean(v[_k])"
   ]
  },
  {
   "cell_type": "code",
   "execution_count": null,
   "metadata": {
    "cell_id": "415f96e17c1f483c9d879aaec3b0fdb8",
    "deepnote_app_coordinates": {
     "h": 5,
     "w": 12,
     "x": 0,
     "y": 0
    },
    "deepnote_cell_type": "code",
    "deepnote_to_be_reexecuted": true,
    "execution_millis": 11,
    "execution_start": 1658265259335,
    "source_hash": "4422624c",
    "tags": []
   },
   "outputs": [],
   "source": [
    "with open(\"est_dist.pkl\", \"wb\") as outptr:\n",
    "    pickle.dump(_dist, outptr)"
   ]
  },
  {
   "cell_type": "code",
   "execution_count": null,
   "metadata": {
    "cell_id": "8f0767fb2c7b4249ae5a818e49eb64c6",
    "deepnote_app_coordinates": {
     "h": 5,
     "w": 12,
     "x": 0,
     "y": 0
    },
    "deepnote_cell_type": "code",
    "deepnote_to_be_reexecuted": true,
    "execution_millis": 1,
    "execution_start": 1658265259393,
    "source_hash": "47707bb1",
    "tags": []
   },
   "outputs": [],
   "source": [
    "with open(\"true_rep.pkl\", \"wb\") as outptr:\n",
    "    np.save(outptr, samples)"
   ]
  },
  {
   "cell_type": "markdown",
   "metadata": {
    "created_in_deepnote_cell": true,
    "deepnote_cell_type": "markdown",
    "tags": []
   },
   "source": [
    "<a style='text-decoration:none;line-height:16px;display:flex;color:#5B5B62;padding:10px;justify-content:end;' href='https://deepnote.com?utm_source=created-in-deepnote-cell&projectId=0cf35289-015a-487a-8451-fe063242d3b9' target=\"_blank\">\n",
    "<img alt='Created in deepnote.com' style='display:inline;max-height:16px;margin:0px;margin-right:7.5px;' src='data:image/svg+xml;base64,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' > </img>\n",
    "Created in <span style='font-weight:600;margin-left:4px;'>Deepnote</span></a>"
   ]
  }
 ],
 "metadata": {
  "deepnote": {},
  "deepnote_app_layout": "article",
  "deepnote_execution_queue": [],
  "deepnote_notebook_id": "82612003-1d81-4a6f-9d22-7cac3c42e8d3",
  "kernelspec": {
   "display_name": "Python 3.9.12 ('base')",
   "language": "python",
   "name": "python3"
  },
  "language_info": {
   "codemirror_mode": {
    "name": "ipython",
    "version": 3
   },
   "file_extension": ".py",
   "mimetype": "text/x-python",
   "name": "python",
   "nbconvert_exporter": "python",
   "pygments_lexer": "ipython3",
   "version": "3.9.12"
  },
  "vscode": {
   "interpreter": {
    "hash": "1175593d7d5703ca8ef82cb0e3453330f777f66009c45f757ae5eae8f3b72393"
   }
  }
 },
 "nbformat": 4,
 "nbformat_minor": 4
}
