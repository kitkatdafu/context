{
 "cells": [
  {
   "cell_type": "code",
   "execution_count": 147,
   "metadata": {
    "id": "Qt2D8cYVNip9"
   },
   "outputs": [],
   "source": [
    "import tensorflow as tf\n",
    "import tensorflow_addons as tfa\n",
    "\n",
    "import math\n",
    "import seaborn as sns\n",
    "import numpy as np\n",
    "\n",
    "from scipy.special import softmax\n",
    "from itertools import permutations, combinations, combinations_with_replacement\n",
    "from scipy.stats import multivariate_normal, truncnorm, norm, multinomial\n",
    "from keras.utils import np_utils\n",
    "from sklearn.preprocessing import OneHotEncoder\n",
    "from tensorflow.keras.optimizers import RMSprop\n",
    "from tensorflow.keras.losses import CategoricalCrossentropy"
   ]
  },
  {
   "cell_type": "code",
   "execution_count": 148,
   "metadata": {
    "id": "WDADUuyHVLoG"
   },
   "outputs": [],
   "source": [
    "n_i = 3\n",
    "n_pair_query = int(math.factorial(n_i) / (math.factorial(n_i - 2) * 2))\n",
    "n_config = 5\n",
    "n = 33\n",
    "n_category = n // n_i\n",
    "mu = [(0, 0), (5, 0), (4, 3)]\n",
    "var = 0.01\n",
    "it = 5000\n",
    "rand_weight = 0.1"
   ]
  },
  {
   "cell_type": "code",
   "execution_count": 149,
   "metadata": {
    "id": "f-wgKx3kYCRQ"
   },
   "outputs": [],
   "source": [
    "def generate_points(n, mu_s, var, visual=True, shuffle=True, seed=0):\n",
    "    np.random.seed(seed)\n",
    "    n_category = len(mu_s)\n",
    "\n",
    "    covar = [\n",
    "        np.diag([var for _ in range(2)])\n",
    "        for _ in range(n_category)\n",
    "    ]\n",
    "\n",
    "    gmm = [\n",
    "        multivariate_normal(mean=mu_s[i], cov=covar[i])\n",
    "        for i in range(n_category)\n",
    "    ]\n",
    "\n",
    "    points = []\n",
    "    labels = []\n",
    "\n",
    "    for _i, dist in enumerate(gmm):\n",
    "        points += list(dist.rvs(size=n // n_category))\n",
    "        labels += [_i for _ in range(n // n_category)]\n",
    "\n",
    "    points = np.array(points)\n",
    "    labels = np.array(labels)\n",
    "\n",
    "    if shuffle:\n",
    "        rand_idx = np.array(list(range(n)))\n",
    "        np.random.shuffle(rand_idx)\n",
    "        points = points[rand_idx]\n",
    "        labels = labels[rand_idx]\n",
    "    \n",
    "\n",
    "    if visual:\n",
    "        sns.scatterplot(x=points[:, 0], y=points[:, 1], hue=labels)\n",
    "\n",
    "    return points, labels"
   ]
  },
  {
   "cell_type": "code",
   "execution_count": 150,
   "metadata": {
    "id": "HVlgWHjabMXI"
   },
   "outputs": [],
   "source": [
    "def generate_queries_and_true_configs(points, labels, n_i, n_pair_query, rand_weight, seed=0):\n",
    "    np.random.seed(seed)\n",
    "    idx = range(len(points))\n",
    "    queries = list(permutations(idx, r=n_i))\n",
    "\n",
    "    configs_expanded = [] \n",
    "    configs = []\n",
    "    distances = []\n",
    "    distances_noise = []\n",
    "\n",
    "    for query in queries:\n",
    "        config_expanded = labels[list(query)]\n",
    "        config = []\n",
    "        r = []\n",
    "        r_noise = []\n",
    "        for left, right in combinations(range(n_pair_query), 2):\n",
    "            config.append(int(config_expanded[left] == config_expanded[right]))\n",
    "            r.append(np.linalg.norm(points[query[left]] - points[query[right]]))\n",
    "        r_noise = truncnorm.rvs(min(r), np.inf, size=len(r)).astype(np.float32) * rand_weight + np.array(r, dtype=np.float32)\n",
    "\n",
    "        configs_expanded.append(config_expanded)\n",
    "        configs.append(config)\n",
    "        distances.append(r)\n",
    "        distances_noise.append(r_noise)\n",
    "\n",
    "    possible_configs = dict(zip(sorted(set(map(tuple, configs))), range(5)))\n",
    "\n",
    "    one_hot_configs = []\n",
    "    for config in configs:\n",
    "        config_id = possible_configs[tuple(config)]\n",
    "        one_hot_config = np.zeros(len(possible_configs))\n",
    "        one_hot_config[config_id] = 1\n",
    "        one_hot_configs.append(one_hot_config)\n",
    "    \n",
    "    return np.array(queries),np.array(one_hot_configs), np.array(configs_expanded), np.array(distances), np.array(distances_noise)"
   ]
  },
  {
   "cell_type": "code",
   "execution_count": 151,
   "metadata": {
    "colab": {
     "base_uri": "https://localhost:8080/",
     "height": 265
    },
    "id": "OxlSzISwZv4v",
    "outputId": "fff4c7c2-f486-4d67-97e0-a256ee8d3921"
   },
   "outputs": [
    {
     "data": {
      "image/png": "[encoded data removed]",
      "text/plain": [
       "<Figure size 432x288 with 1 Axes>"
      ]
     },
     "metadata": {
      "needs_background": "light"
     },
     "output_type": "display_data"
    }
   ],
   "source": [
    "points, labels = generate_points(n, mu, var)\n",
    "points = points.astype(np.float32)\n",
    "labels = labels.astype(np.float32)"
   ]
  },
  {
   "cell_type": "code",
   "execution_count": 152,
   "metadata": {
    "id": "6wJPfRrJcoOF"
   },
   "outputs": [],
   "source": [
    "queries, configs, configs_expanded, r, r_noise = generate_queries_and_true_configs(points, labels, n_i, n_pair_query, rand_weight=rand_weight)"
   ]
  },
  {
   "cell_type": "code",
   "execution_count": 153,
   "metadata": {
    "id": "N_vbd_AnwQnn"
   },
   "outputs": [],
   "source": [
    "bias = 1.5\n",
    "W = np.array([[ 1,  1,  1],\n",
    "              [ 1,  1, -1],\n",
    "              [ 1, -1,  1],\n",
    "              [-1,  1,  1],\n",
    "              [-1, -1, -1]], dtype=np.float32)\n",
    "b = (-bias * W).sum(axis=1).reshape(-1, 1)"
   ]
  },
  {
   "cell_type": "code",
   "execution_count": 154,
   "metadata": {
    "id": "yvM9E8OCYnpY"
   },
   "outputs": [],
   "source": [
    "W = W.T\n",
    "b = b.T"
   ]
  },
  {
   "cell_type": "code",
   "execution_count": 155,
   "metadata": {
    "id": "10Qo2awrTpJh"
   },
   "outputs": [],
   "source": [
    "np.random.seed(0)\n",
    "W_noise = W + norm.rvs(size=W.shape).astype(np.float32) * rand_weight\n",
    "b_noise = b + norm.rvs(size=b.shape).astype(np.float32) * rand_weight"
   ]
  },
  {
   "cell_type": "code",
   "execution_count": 156,
   "metadata": {
    "colab": {
     "base_uri": "https://localhost:8080/"
    },
    "id": "5S720XAKaUHv",
    "outputId": "341b57d8-194f-4416-8474-ead9f1776aca"
   },
   "outputs": [
    {
     "data": {
      "text/plain": [
       "array([[4.977847  , 0.20537764, 4.8933506 ],\n",
       "       [5.2429514 , 3.5836022 , 5.270163  ],\n",
       "       [4.959963  , 0.24166518, 5.081025  ],\n",
       "       ...,\n",
       "       [0.2210871 , 0.49615136, 0.25321734],\n",
       "       [0.3485406 , 3.6420965 , 3.250755  ],\n",
       "       [0.40217048, 0.4533726 , 0.21140775]], dtype=float32)"
      ]
     },
     "execution_count": 156,
     "metadata": {},
     "output_type": "execute_result"
    }
   ],
   "source": [
    "r_noise"
   ]
  },
  {
   "cell_type": "code",
   "execution_count": 157,
   "metadata": {
    "colab": {
     "base_uri": "https://localhost:8080/"
    },
    "id": "-W8PbdVjaBBi",
    "outputId": "63f70e1d-9b5a-4e05-c40f-59accbbeca98"
   },
   "outputs": [
    {
     "data": {
      "text/plain": [
       "array([[ 1.1764052 ,  1.0400157 ,  1.0978738 , -0.7759107 , -0.8132442 ],\n",
       "       [ 0.9022722 ,  1.0950089 , -1.0151358 ,  0.98967814, -0.95894015],\n",
       "       [ 1.0144043 , -0.85457265,  1.0761038 ,  1.0121675 , -0.9556137 ]],\n",
       "      dtype=float32)"
      ]
     },
     "execution_count": 157,
     "metadata": {},
     "output_type": "execute_result"
    }
   ],
   "source": [
    "W_noise"
   ]
  },
  {
   "cell_type": "code",
   "execution_count": 158,
   "metadata": {
    "colab": {
     "base_uri": "https://localhost:8080/"
    },
    "id": "HU9dfvFEZVTh",
    "outputId": "36d96eb7-13f7-4ab8-9fe7-5d43eb719fab"
   },
   "outputs": [
    {
     "data": {
      "text/plain": [
       "array([[-4.4666324, -1.3505921, -1.5205158, -1.4686933,  4.4145904]],\n",
       "      dtype=float32)"
      ]
     },
     "execution_count": 158,
     "metadata": {},
     "output_type": "execute_result"
    }
   ],
   "source": [
    "b_noise"
   ]
  },
  {
   "cell_type": "markdown",
   "metadata": {
    "id": "W4adBndQCpU-"
   },
   "source": [
    "# Optimize for $W, b, \\text{and } r$"
   ]
  },
  {
   "cell_type": "code",
   "execution_count": 159,
   "metadata": {
    "id": "j7Al7DoJy1yo"
   },
   "outputs": [],
   "source": [
    "@tf.function\n",
    "def f(W, r, b, Y):\n",
    "    Y_hat = tf.nn.softmax(tf.matmul(r, W) + b)\n",
    "    cce = tf.keras.losses.CategoricalCrossentropy()\n",
    "    loss = cce(Y, Y_hat)\n",
    "    return loss"
   ]
  },
  {
   "cell_type": "code",
   "execution_count": 160,
   "metadata": {
    "id": "FxhkiVx2bthW"
   },
   "outputs": [],
   "source": [
    "def accuracy(W_hat, r_hat, b_hat, Y):\n",
    "    W_hat = W_hat.numpy() if type(W_hat) is tf.Tensor else W_hat\n",
    "    r_hat = r_hat.numpy() if type(r_hat) is tf.Tensor else r_hat\n",
    "    b_hat = b_hat.numpy() if type(b_hat) is tf.Tensor else b_hat\n",
    "    Y = Y.numpy() if type(Y) is tf.Tensor else Y\n",
    "\n",
    "    res = r_hat @ W_hat + b_hat\n",
    "    idx_hat = np.argmax(res, axis=1)\n",
    "    idx = np.argmax(Y, axis=1)\n",
    "    \n",
    "    print(\"Accuracy:\", np.sum(idx_hat == idx) / Y.shape[0])"
   ]
  },
  {
   "cell_type": "code",
   "execution_count": 161,
   "metadata": {
    "id": "4O_Vllh0lRzE"
   },
   "outputs": [],
   "source": [
    "def generate_label_from_pmf(W, r, b, seed=0):\n",
    "    np.random.seed(seed)\n",
    "\n",
    "    logits = r @ W + b\n",
    "    probs = softmax(logits, axis=1)\n",
    "\n",
    "    Y_drawn = []\n",
    "\n",
    "    for prob in probs:\n",
    "        prob = prob.astype(np.float64)\n",
    "        prob = prob / prob.sum()\n",
    "        drawn = multinomial.rvs(1, p=prob)\n",
    "        Y_drawn.append(drawn)\n",
    "    \n",
    "    return np.array(Y_drawn).astype(np.float32)"
   ]
  },
  {
   "cell_type": "code",
   "execution_count": 162,
   "metadata": {
    "id": "2SG-fXin0tN1"
   },
   "outputs": [],
   "source": [
    "def optimize_together(opt, it, func, W, r, b, Y):\n",
    "    for _ in range(it):\n",
    "        with tf.GradientTape() as tape:\n",
    "            loss = func(W, r, b, Y)\n",
    "\n",
    "        grads = tape.gradient(loss, [W, r, b])\n",
    "        opt.apply_gradients(zip(grads, [W, r, b]))\n",
    "    \n",
    "    print(f\"Final loss {it} \", func(W, r, b, Y).numpy())\n",
    "    return W, r, b"
   ]
  },
  {
   "cell_type": "code",
   "execution_count": 163,
   "metadata": {
    "id": "_2brz3A7112t"
   },
   "outputs": [],
   "source": [
    "def optimize_seperately(opt1, opt2, it, it1, it2, func, W, r, b, Y):\n",
    "    for _ in range(it):\n",
    "\n",
    "        for _ in range(it1):\n",
    "            with tf.GradientTape() as tape:\n",
    "                loss = func(W, r, b, Y)\n",
    "            grads = tape.gradient(loss, [W, b])\n",
    "            opt1.apply_gradients(zip(grads, [W, b]))\n",
    "\n",
    "        for _ in range(it2):\n",
    "            with tf.GradientTape() as tape:\n",
    "                loss = func(W, r, b, Y)\n",
    "            grads = tape.gradient(loss, [r])\n",
    "            opt2.apply_gradients(zip(grads, [r]))\n",
    "        \n",
    "    print(f\"Final loss {it} \", func(W, r, b, Y).numpy())\n",
    "    return W, r, b"
   ]
  },
  {
   "cell_type": "code",
   "execution_count": 164,
   "metadata": {
    "id": "L9GWorltvk_F"
   },
   "outputs": [],
   "source": [
    "def show_diff(W_hat, r_hat, r, b_hat, Y, wrong_only=False):\n",
    "    W_hat = W_hat.numpy() if type(W_hat) is tf.Tensor else W_hat\n",
    "    r_hat = r_hat.numpy() if type(r_hat) is tf.Tensor else r_hat\n",
    "    b_hat = b_hat.numpy() if type(b_hat) is tf.Tensor else b_hat\n",
    "    Y = Y.numpy() if type(Y) is tf.Tensor else Y\n",
    "\n",
    "    res = r_hat @ W_hat + b_hat\n",
    "    idx_hat = np.argmax(res, axis=1)\n",
    "    idx = np.argmax(Y, axis=1)\n",
    "\n",
    "    for i in range(len(idx)):\n",
    "        if wrong_only:\n",
    "            if idx_hat[i] == idx[i]:\n",
    "                continue\n",
    "        print(f\"r_hat: {r_hat[i]}, r: {r[i]}, y_hat: {idx_hat[i]}, y: {idx[i]}\")"
   ]
  },
  {
   "cell_type": "code",
   "execution_count": 165,
   "metadata": {
    "id": "R7nzzT0Vt4eB"
   },
   "outputs": [],
   "source": [
    "def show_mean_distances(mu):\n",
    "    for left, right in combinations(mu, 2):\n",
    "        print(np.linalg.norm(np.array(left) - np.array(right)))"
   ]
  },
  {
   "cell_type": "code",
   "execution_count": 166,
   "metadata": {
    "id": "IkuBj70M2HIl"
   },
   "outputs": [],
   "source": [
    "r_noise = tf.Variable(r_noise, tf.float32)\n",
    "Y = tf.Variable(configs.astype(np.float32), tf.float32)\n",
    "W_noise = tf.Variable(W_noise, tf.float32)\n",
    "b_noise = tf.Variable(b_noise, tf.float32)\n",
    "Y_drawn = generate_label_from_pmf(W, r, b)"
   ]
  },
  {
   "cell_type": "code",
   "execution_count": 167,
   "metadata": {
    "colab": {
     "base_uri": "https://localhost:8080/"
    },
    "id": "Exd1Gd7sIyoF",
    "outputId": "a80e14ab-41ac-457a-b5cc-43ec325bc26d"
   },
   "outputs": [
    {
     "name": "stderr",
     "output_type": "stream",
     "text": [
      "2022-07-21 19:32:26.399562: I tensorflow/core/grappler/optimizers/custom_graph_optimizer_registry.cc:113] Plugin optimizer for device_type GPU is enabled.\n",
      "2022-07-21 19:32:26.487350: I tensorflow/core/grappler/optimizers/custom_graph_optimizer_registry.cc:113] Plugin optimizer for device_type GPU is enabled.\n"
     ]
    },
    {
     "name": "stdout",
     "output_type": "stream",
     "text": [
      "Final loss 400  0.22477643\n"
     ]
    },
    {
     "name": "stderr",
     "output_type": "stream",
     "text": [
      "2022-07-21 19:32:56.833742: I tensorflow/core/grappler/optimizers/custom_graph_optimizer_registry.cc:113] Plugin optimizer for device_type GPU is enabled.\n"
     ]
    }
   ],
   "source": [
    "W_hat, r_hat, b_hat = optimize_seperately(tfa.optimizers.SGDW(learning_rate=0.01, momentum=0.8, weight_decay=0), \n",
    "                                          tfa.optimizers.SGDW(learning_rate=0.01, momentum=0, weight_decay=0),\n",
    "                                          400, \n",
    "                                          10,\n",
    "                                          3,\n",
    "                                          f, W_noise, r_noise, b_noise, Y_drawn)"
   ]
  },
  {
   "cell_type": "code",
   "execution_count": 168,
   "metadata": {
    "colab": {
     "base_uri": "https://localhost:8080/"
    },
    "id": "Tt2fSkmejAKe",
    "outputId": "d807707f-0734-4e38-8e50-64951d8a12b3"
   },
   "outputs": [
    {
     "data": {
      "text/plain": [
       "array([[ 1.,  1.,  1., -1., -1.],\n",
       "       [ 1.,  1., -1.,  1., -1.],\n",
       "       [ 1., -1.,  1.,  1., -1.]], dtype=float32)"
      ]
     },
     "execution_count": 168,
     "metadata": {},
     "output_type": "execute_result"
    }
   ],
   "source": [
    "W"
   ]
  },
  {
   "cell_type": "code",
   "execution_count": 169,
   "metadata": {
    "colab": {
     "base_uri": "https://localhost:8080/"
    },
    "id": "fvy8kvvQjCcp",
    "outputId": "216e4f55-655a-47aa-ffbc-03f6a403b462"
   },
   "outputs": [
    {
     "data": {
      "text/plain": [
       "array([[-4.5, -1.5, -1.5, -1.5,  4.5]], dtype=float32)"
      ]
     },
     "execution_count": 169,
     "metadata": {},
     "output_type": "execute_result"
    }
   ],
   "source": [
    "b"
   ]
  },
  {
   "cell_type": "code",
   "execution_count": 170,
   "metadata": {
    "colab": {
     "base_uri": "https://localhost:8080/"
    },
    "id": "ykh5GriljLBe",
    "outputId": "56bf1ff0-f71c-40f1-bc1b-5aef8dd5751a"
   },
   "outputs": [
    {
     "data": {
      "text/plain": [
       "array([[4.8967786 , 0.09357975, 4.8032565 ],\n",
       "       [4.8967786 , 3.2438378 , 4.9172926 ],\n",
       "       [4.8967786 , 0.07790579, 4.869114  ],\n",
       "       ...,\n",
       "       [0.17250594, 0.38745013, 0.22936837],\n",
       "       [0.17250594, 3.3090045 , 3.1782079 ],\n",
       "       [0.17250594, 0.34742042, 0.1893384 ]], dtype=float32)"
      ]
     },
     "execution_count": 170,
     "metadata": {},
     "output_type": "execute_result"
    }
   ],
   "source": [
    "r"
   ]
  },
  {
   "cell_type": "code",
   "execution_count": 171,
   "metadata": {
    "colab": {
     "base_uri": "https://localhost:8080/"
    },
    "id": "gDUtK4aHI9dk",
    "outputId": "93b971da-2fe1-4a25-f8c0-35ad61c39853"
   },
   "outputs": [
    {
     "data": {
      "text/plain": [
       "array([[ 1.0896639 ,  1.1381477 ,  1.1030256 , -0.7893699 , -0.8162965 ],\n",
       "       [ 0.97084445,  0.9512065 , -0.9089267 ,  0.9920236 , -0.9922741 ],\n",
       "       [ 1.0082045 , -0.8277773 ,  1.0394324 ,  1.029681  , -0.95704794]],\n",
       "      dtype=float32)"
      ]
     },
     "execution_count": 171,
     "metadata": {},
     "output_type": "execute_result"
    }
   ],
   "source": [
    "W_hat.numpy()"
   ]
  },
  {
   "cell_type": "code",
   "execution_count": 172,
   "metadata": {
    "colab": {
     "base_uri": "https://localhost:8080/"
    },
    "id": "XqvXh_2VPqbl",
    "outputId": "5d7b7b95-998a-49b6-bfc5-7e6d34d72f98"
   },
   "outputs": [
    {
     "data": {
      "text/plain": [
       "array([[-4.4687257, -1.4541985, -1.5367512, -1.4765407,  4.5443134]],\n",
       "      dtype=float32)"
      ]
     },
     "execution_count": 172,
     "metadata": {},
     "output_type": "execute_result"
    }
   ],
   "source": [
    "b_hat.numpy()"
   ]
  },
  {
   "cell_type": "code",
   "execution_count": 173,
   "metadata": {
    "colab": {
     "base_uri": "https://localhost:8080/"
    },
    "id": "n_T0cqLfPtDz",
    "outputId": "ed89ea20-15cf-4c53-c525-5d9c299b7bfd"
   },
   "outputs": [
    {
     "data": {
      "text/plain": [
       "array([[4.977847  , 0.20534179, 4.8933506 ],\n",
       "       [5.2429514 , 3.5836022 , 5.270163  ],\n",
       "       [4.959963  , 0.24162929, 5.081025  ],\n",
       "       ...,\n",
       "       [0.22106922, 0.4961484 , 0.25321734],\n",
       "       [0.34846908, 3.6420965 , 3.250755  ],\n",
       "       [0.40217048, 0.45335686, 0.21138987]], dtype=float32)"
      ]
     },
     "execution_count": 173,
     "metadata": {},
     "output_type": "execute_result"
    }
   ],
   "source": [
    "r_hat.numpy()"
   ]
  },
  {
   "cell_type": "code",
   "execution_count": 174,
   "metadata": {
    "colab": {
     "base_uri": "https://localhost:8080/"
    },
    "id": "A0gT_9qfbGXm",
    "outputId": "b912131f-cad6-43d4-ed90-4c840f7e00c9"
   },
   "outputs": [
    {
     "name": "stdout",
     "output_type": "stream",
     "text": [
      "Accuracy: 0.9428763440860215\n"
     ]
    }
   ],
   "source": [
    "accuracy(W, r, b, Y_drawn)"
   ]
  },
  {
   "cell_type": "code",
   "execution_count": 175,
   "metadata": {
    "colab": {
     "base_uri": "https://localhost:8080/"
    },
    "id": "aWrN1Gg7fLaC",
    "outputId": "33b00844-99bb-4a13-a746-48eccb11de1b"
   },
   "outputs": [
    {
     "name": "stdout",
     "output_type": "stream",
     "text": [
      "Accuracy: 0.9428763440860215\n"
     ]
    }
   ],
   "source": [
    "accuracy(W_hat, r_hat, b_hat, Y_drawn)"
   ]
  },
  {
   "cell_type": "code",
   "execution_count": null,
   "metadata": {
    "id": "sw9Ex2X3yCbc"
   },
   "outputs": [],
   "source": []
  }
 ],
 "metadata": {
  "colab": {
   "collapsed_sections": [],
   "name": "context-project.ipynb",
   "provenance": []
  },
  "kernelspec": {
   "display_name": "Python 3 (ipykernel)",
   "language": "python",
   "name": "python3"
  },
  "language_info": {
   "codemirror_mode": {
    "name": "ipython",
    "version": 3
   },
   "file_extension": ".py",
   "mimetype": "text/x-python",
   "name": "python",
   "nbconvert_exporter": "python",
   "pygments_lexer": "ipython3",
   "version": "3.9.13"
  }
 },
 "nbformat": 4,
 "nbformat_minor": 4
}
